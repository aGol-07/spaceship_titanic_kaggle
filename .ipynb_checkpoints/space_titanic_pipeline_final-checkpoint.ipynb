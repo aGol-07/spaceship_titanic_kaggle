{
 "cells": [
  {
   "cell_type": "code",
   "execution_count": 49,
   "id": "aafd3c01",
   "metadata": {},
   "outputs": [],
   "source": [
    "import pandas as pd\n",
    "from sklearn.preprocessing import OneHotEncoder, Normalizer\n",
    "from sklearn.linear_model import LogisticRegression\n",
    "from sklearn.pipeline import Pipeline\n",
    "from sklearn.compose import ColumnTransformer\n",
    "from sklearn.impute import SimpleImputer"
   ]
  },
  {
   "cell_type": "code",
   "execution_count": 50,
   "id": "c99488f1",
   "metadata": {},
   "outputs": [],
   "source": [
    "df_train = pd.read_csv(\"raw_data/train.csv\")"
   ]
  },
  {
   "cell_type": "code",
   "execution_count": 51,
   "id": "12fd3c98",
   "metadata": {},
   "outputs": [],
   "source": [
    "df_train = df_train.drop(columns= [\"Name\", \"Cabin\"])\n",
    "df_train[\"amenities\"] = df_train['RoomService']+ df_train['FoodCourt'] + df_train['ShoppingMall'] + df_train['Spa'] + df_train['VRDeck']"
   ]
  },
  {
   "cell_type": "code",
   "execution_count": 52,
   "id": "d8b42f70",
   "metadata": {},
   "outputs": [
    {
     "data": {
      "text/plain": [
       "PassengerId     8693\n",
       "HomePlanet         3\n",
       "CryoSleep          2\n",
       "Destination        3\n",
       "Age               80\n",
       "VIP                2\n",
       "RoomService     1273\n",
       "FoodCourt       1507\n",
       "ShoppingMall    1115\n",
       "Spa             1327\n",
       "VRDeck          1306\n",
       "Transported        2\n",
       "amenities       2116\n",
       "dtype: int64"
      ]
     },
     "execution_count": 52,
     "metadata": {},
     "output_type": "execute_result"
    }
   ],
   "source": [
    "df_train.nunique()"
   ]
  },
  {
   "cell_type": "code",
   "execution_count": 53,
   "id": "31ddb23f",
   "metadata": {},
   "outputs": [
    {
     "data": {
      "text/plain": [
       "Index(['PassengerId', 'HomePlanet', 'CryoSleep', 'Destination', 'Age', 'VIP',\n",
       "       'RoomService', 'FoodCourt', 'ShoppingMall', 'Spa', 'VRDeck',\n",
       "       'Transported', 'amenities'],\n",
       "      dtype='object')"
      ]
     },
     "execution_count": 53,
     "metadata": {},
     "output_type": "execute_result"
    }
   ],
   "source": [
    "df_train.columns"
   ]
  },
  {
   "cell_type": "code",
   "execution_count": 54,
   "id": "19430c4f",
   "metadata": {},
   "outputs": [],
   "source": [
    "categorical_features = [\"HomePlanet\",\"CryoSleep\",\"Destination\",\"VIP\"]\n",
    "numerical_features = [\"Age\", \"RoomService\", \"FoodCourt\", \"ShoppingMall\", \"Spa\",\"VRDeck\"]"
   ]
  },
  {
   "cell_type": "code",
   "execution_count": 55,
   "id": "bcf05511",
   "metadata": {},
   "outputs": [],
   "source": [
    "df_train[\"Transported\"] = df_train[\"Transported\"].astype(int)"
   ]
  },
  {
   "cell_type": "code",
   "execution_count": 56,
   "id": "04b66fdb",
   "metadata": {},
   "outputs": [],
   "source": [
    "X = df_train.drop(columns=[\"PassengerId\",\"Transported\", \"amenities\"])\n",
    "y = df_train['Transported']"
   ]
  },
  {
   "cell_type": "code",
   "execution_count": 57,
   "id": "4ec44329",
   "metadata": {},
   "outputs": [],
   "source": [
    "num_pipeline = Pipeline(\n",
    "    [\n",
    "        ('num_imputer', SimpleImputer(strategy='median')), \n",
    "        ('num_pipeline', Normalizer())\n",
    "    ]\n",
    ")"
   ]
  },
  {
   "cell_type": "code",
   "execution_count": 58,
   "id": "844b49ab",
   "metadata": {},
   "outputs": [],
   "source": [
    "cat_pipeline = Pipeline(\n",
    "    [\n",
    "        ('cat_imputer', SimpleImputer(strategy=\"most_frequent\")),\n",
    "        ('cat_pipeline', OneHotEncoder(sparse=False))\n",
    "    ]\n",
    ")"
   ]
  },
  {
   "cell_type": "code",
   "execution_count": 59,
   "id": "0511cf61",
   "metadata": {},
   "outputs": [],
   "source": [
    "preprocessing = ColumnTransformer(\n",
    "    [\n",
    "        ('n_pipe', num_pipeline, numerical_features),\n",
    "        ('c_pipe', cat_pipeline, categorical_features)\n",
    "    ]\n",
    ")"
   ]
  },
  {
   "cell_type": "code",
   "execution_count": 60,
   "id": "2cd40060",
   "metadata": {},
   "outputs": [],
   "source": [
    "X_transformed = preprocessing.fit_transform(X)"
   ]
  },
  {
   "cell_type": "code",
   "execution_count": 61,
   "id": "cbbbdd1c",
   "metadata": {},
   "outputs": [],
   "source": [
    "#numerical_features.extend(preprocessing.transformers_[1][1].get_feature_names().tolist()) # RETREIVING A LIST OF COLUMNS"
   ]
  },
  {
   "cell_type": "code",
   "execution_count": 62,
   "id": "075effb2",
   "metadata": {},
   "outputs": [
    {
     "data": {
      "text/plain": [
       "LogisticRegression(C=1.0, class_weight=None, dual=False, fit_intercept=True,\n",
       "                   intercept_scaling=1, l1_ratio=None, max_iter=100,\n",
       "                   multi_class='auto', n_jobs=None, penalty='l2',\n",
       "                   random_state=None, solver='lbfgs', tol=0.0001, verbose=0,\n",
       "                   warm_start=False)"
      ]
     },
     "execution_count": 62,
     "metadata": {},
     "output_type": "execute_result"
    }
   ],
   "source": [
    "model = LogisticRegression()\n",
    "model.fit(X_transformed,y)"
   ]
  },
  {
   "cell_type": "code",
   "execution_count": 63,
   "id": "9997de65",
   "metadata": {},
   "outputs": [],
   "source": [
    "test_file = pd.read_csv(\"raw_data/test.csv\")\n",
    "df_test = test_file.drop(columns= [\"PassengerId\",\"Name\", \"Cabin\"])"
   ]
  },
  {
   "cell_type": "code",
   "execution_count": 64,
   "id": "bf575c91",
   "metadata": {},
   "outputs": [],
   "source": [
    "test = preprocessing.transform(df_test)\n",
    "prediction = model.predict(test)"
   ]
  },
  {
   "cell_type": "code",
   "execution_count": 65,
   "id": "ff51775c",
   "metadata": {},
   "outputs": [],
   "source": [
    "test_df = pd.DataFrame(test_file[\"PassengerId\"])\n",
    "test_df[\"Transported\"] = prediction.astype(bool)"
   ]
  },
  {
   "cell_type": "code",
   "execution_count": 66,
   "id": "0673828f",
   "metadata": {},
   "outputs": [],
   "source": [
    "#test_df.to_csv(\"raw_data/submission.csv\", index=False)"
   ]
  }
 ],
 "metadata": {
  "kernelspec": {
   "display_name": "Python 3 (ipykernel)",
   "language": "python",
   "name": "python3"
  },
  "language_info": {
   "codemirror_mode": {
    "name": "ipython",
    "version": 3
   },
   "file_extension": ".py",
   "mimetype": "text/x-python",
   "name": "python",
   "nbconvert_exporter": "python",
   "pygments_lexer": "ipython3",
   "version": "3.8.12"
  },
  "toc": {
   "base_numbering": 1,
   "nav_menu": {},
   "number_sections": true,
   "sideBar": true,
   "skip_h1_title": false,
   "title_cell": "Table of Contents",
   "title_sidebar": "Contents",
   "toc_cell": false,
   "toc_position": {},
   "toc_section_display": true,
   "toc_window_display": false
  }
 },
 "nbformat": 4,
 "nbformat_minor": 5
}
