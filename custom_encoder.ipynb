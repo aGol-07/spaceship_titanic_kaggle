{
 "cells": [
  {
   "cell_type": "markdown",
   "metadata": {},
   "source": [
    "# Re-create your own _One Hot Encoder_ "
   ]
  },
  {
   "cell_type": "code",
   "execution_count": 1,
   "metadata": {},
   "outputs": [],
   "source": [
    "import pandas as pd\n",
    "import seaborn as sns"
   ]
  },
  {
   "cell_type": "code",
   "execution_count": 48,
   "metadata": {},
   "outputs": [],
   "source": [
    "from sklearn.preprocessing import MinMaxScaler, RobustScaler, OneHotEncoder\n",
    "from sklearn.pipeline import Pipeline\n",
    "from sklearn.impute import SimpleImputer\n",
    "from sklearn.compose import ColumnTransformer\n",
    "from sklearn.linear_model import LogisticRegression\n",
    "from sklearn.model_selection import cross_val_score"
   ]
  },
  {
   "cell_type": "code",
   "execution_count": 19,
   "metadata": {},
   "outputs": [],
   "source": [
    "from sklearn import set_config; set_config(display = \"diagram\")"
   ]
  },
  {
   "cell_type": "markdown",
   "metadata": {},
   "source": [
    "## (1) The Titanic Dataset"
   ]
  },
  {
   "cell_type": "code",
   "execution_count": 2,
   "metadata": {},
   "outputs": [
    {
     "data": {
      "text/html": [
       "<div>\n",
       "<style scoped>\n",
       "    .dataframe tbody tr th:only-of-type {\n",
       "        vertical-align: middle;\n",
       "    }\n",
       "\n",
       "    .dataframe tbody tr th {\n",
       "        vertical-align: top;\n",
       "    }\n",
       "\n",
       "    .dataframe thead th {\n",
       "        text-align: right;\n",
       "    }\n",
       "</style>\n",
       "<table border=\"1\" class=\"dataframe\">\n",
       "  <thead>\n",
       "    <tr style=\"text-align: right;\">\n",
       "      <th></th>\n",
       "      <th>survived</th>\n",
       "      <th>pclass</th>\n",
       "      <th>sex</th>\n",
       "      <th>age</th>\n",
       "      <th>sibsp</th>\n",
       "      <th>parch</th>\n",
       "      <th>fare</th>\n",
       "      <th>embarked</th>\n",
       "      <th>class</th>\n",
       "      <th>who</th>\n",
       "      <th>adult_male</th>\n",
       "      <th>deck</th>\n",
       "      <th>embark_town</th>\n",
       "      <th>alive</th>\n",
       "      <th>alone</th>\n",
       "    </tr>\n",
       "  </thead>\n",
       "  <tbody>\n",
       "    <tr>\n",
       "      <th>186</th>\n",
       "      <td>1</td>\n",
       "      <td>3</td>\n",
       "      <td>female</td>\n",
       "      <td>NaN</td>\n",
       "      <td>1</td>\n",
       "      <td>0</td>\n",
       "      <td>15.5000</td>\n",
       "      <td>Q</td>\n",
       "      <td>Third</td>\n",
       "      <td>woman</td>\n",
       "      <td>False</td>\n",
       "      <td>NaN</td>\n",
       "      <td>Queenstown</td>\n",
       "      <td>yes</td>\n",
       "      <td>False</td>\n",
       "    </tr>\n",
       "    <tr>\n",
       "      <th>630</th>\n",
       "      <td>1</td>\n",
       "      <td>1</td>\n",
       "      <td>male</td>\n",
       "      <td>80.0</td>\n",
       "      <td>0</td>\n",
       "      <td>0</td>\n",
       "      <td>30.0000</td>\n",
       "      <td>S</td>\n",
       "      <td>First</td>\n",
       "      <td>man</td>\n",
       "      <td>True</td>\n",
       "      <td>A</td>\n",
       "      <td>Southampton</td>\n",
       "      <td>yes</td>\n",
       "      <td>True</td>\n",
       "    </tr>\n",
       "    <tr>\n",
       "      <th>880</th>\n",
       "      <td>1</td>\n",
       "      <td>2</td>\n",
       "      <td>female</td>\n",
       "      <td>25.0</td>\n",
       "      <td>0</td>\n",
       "      <td>1</td>\n",
       "      <td>26.0000</td>\n",
       "      <td>S</td>\n",
       "      <td>Second</td>\n",
       "      <td>woman</td>\n",
       "      <td>False</td>\n",
       "      <td>NaN</td>\n",
       "      <td>Southampton</td>\n",
       "      <td>yes</td>\n",
       "      <td>False</td>\n",
       "    </tr>\n",
       "    <tr>\n",
       "      <th>388</th>\n",
       "      <td>0</td>\n",
       "      <td>3</td>\n",
       "      <td>male</td>\n",
       "      <td>NaN</td>\n",
       "      <td>0</td>\n",
       "      <td>0</td>\n",
       "      <td>7.7292</td>\n",
       "      <td>Q</td>\n",
       "      <td>Third</td>\n",
       "      <td>man</td>\n",
       "      <td>True</td>\n",
       "      <td>NaN</td>\n",
       "      <td>Queenstown</td>\n",
       "      <td>no</td>\n",
       "      <td>True</td>\n",
       "    </tr>\n",
       "    <tr>\n",
       "      <th>517</th>\n",
       "      <td>0</td>\n",
       "      <td>3</td>\n",
       "      <td>male</td>\n",
       "      <td>NaN</td>\n",
       "      <td>0</td>\n",
       "      <td>0</td>\n",
       "      <td>24.1500</td>\n",
       "      <td>Q</td>\n",
       "      <td>Third</td>\n",
       "      <td>man</td>\n",
       "      <td>True</td>\n",
       "      <td>NaN</td>\n",
       "      <td>Queenstown</td>\n",
       "      <td>no</td>\n",
       "      <td>True</td>\n",
       "    </tr>\n",
       "  </tbody>\n",
       "</table>\n",
       "</div>"
      ],
      "text/plain": [
       "     survived  pclass     sex   age  sibsp  parch     fare embarked   class  \\\n",
       "186         1       3  female   NaN      1      0  15.5000        Q   Third   \n",
       "630         1       1    male  80.0      0      0  30.0000        S   First   \n",
       "880         1       2  female  25.0      0      1  26.0000        S  Second   \n",
       "388         0       3    male   NaN      0      0   7.7292        Q   Third   \n",
       "517         0       3    male   NaN      0      0  24.1500        Q   Third   \n",
       "\n",
       "       who  adult_male deck  embark_town alive  alone  \n",
       "186  woman       False  NaN   Queenstown   yes  False  \n",
       "630    man        True    A  Southampton   yes   True  \n",
       "880  woman       False  NaN  Southampton   yes  False  \n",
       "388    man        True  NaN   Queenstown    no   True  \n",
       "517    man        True  NaN   Queenstown    no   True  "
      ]
     },
     "execution_count": 2,
     "metadata": {},
     "output_type": "execute_result"
    }
   ],
   "source": [
    "# Loading 100% of the dataset. \n",
    "# Choose 0.5 to load only 50% of the rows randomly\n",
    "\n",
    "data = sns.load_dataset('titanic').sample(frac = 1) \n",
    "data.head()"
   ]
  },
  {
   "cell_type": "code",
   "execution_count": 3,
   "metadata": {},
   "outputs": [],
   "source": [
    "from sklearn.model_selection import train_test_split\n",
    "\n",
    "X = data.drop(columns = ['survived', 'alive', 'who', 'adult_male'])\n",
    "y = data['survived']\n",
    "\n",
    "X_train, X_test, y_train, y_test = train_test_split(X, y, test_size = 0.3)"
   ]
  },
  {
   "cell_type": "code",
   "execution_count": 4,
   "metadata": {},
   "outputs": [
    {
     "data": {
      "text/html": [
       "<div>\n",
       "<style scoped>\n",
       "    .dataframe tbody tr th:only-of-type {\n",
       "        vertical-align: middle;\n",
       "    }\n",
       "\n",
       "    .dataframe tbody tr th {\n",
       "        vertical-align: top;\n",
       "    }\n",
       "\n",
       "    .dataframe thead th {\n",
       "        text-align: right;\n",
       "    }\n",
       "</style>\n",
       "<table border=\"1\" class=\"dataframe\">\n",
       "  <thead>\n",
       "    <tr style=\"text-align: right;\">\n",
       "      <th></th>\n",
       "      <th>pclass</th>\n",
       "      <th>sex</th>\n",
       "      <th>age</th>\n",
       "      <th>sibsp</th>\n",
       "      <th>parch</th>\n",
       "      <th>fare</th>\n",
       "      <th>embarked</th>\n",
       "      <th>class</th>\n",
       "      <th>deck</th>\n",
       "      <th>embark_town</th>\n",
       "      <th>alone</th>\n",
       "    </tr>\n",
       "  </thead>\n",
       "  <tbody>\n",
       "    <tr>\n",
       "      <th>624</th>\n",
       "      <td>3</td>\n",
       "      <td>male</td>\n",
       "      <td>21.0</td>\n",
       "      <td>0</td>\n",
       "      <td>0</td>\n",
       "      <td>16.1000</td>\n",
       "      <td>S</td>\n",
       "      <td>Third</td>\n",
       "      <td>NaN</td>\n",
       "      <td>Southampton</td>\n",
       "      <td>True</td>\n",
       "    </tr>\n",
       "    <tr>\n",
       "      <th>485</th>\n",
       "      <td>3</td>\n",
       "      <td>female</td>\n",
       "      <td>NaN</td>\n",
       "      <td>3</td>\n",
       "      <td>1</td>\n",
       "      <td>25.4667</td>\n",
       "      <td>S</td>\n",
       "      <td>Third</td>\n",
       "      <td>NaN</td>\n",
       "      <td>Southampton</td>\n",
       "      <td>False</td>\n",
       "    </tr>\n",
       "    <tr>\n",
       "      <th>366</th>\n",
       "      <td>1</td>\n",
       "      <td>female</td>\n",
       "      <td>60.0</td>\n",
       "      <td>1</td>\n",
       "      <td>0</td>\n",
       "      <td>75.2500</td>\n",
       "      <td>C</td>\n",
       "      <td>First</td>\n",
       "      <td>D</td>\n",
       "      <td>Cherbourg</td>\n",
       "      <td>False</td>\n",
       "    </tr>\n",
       "    <tr>\n",
       "      <th>206</th>\n",
       "      <td>3</td>\n",
       "      <td>male</td>\n",
       "      <td>32.0</td>\n",
       "      <td>1</td>\n",
       "      <td>0</td>\n",
       "      <td>15.8500</td>\n",
       "      <td>S</td>\n",
       "      <td>Third</td>\n",
       "      <td>NaN</td>\n",
       "      <td>Southampton</td>\n",
       "      <td>False</td>\n",
       "    </tr>\n",
       "    <tr>\n",
       "      <th>588</th>\n",
       "      <td>3</td>\n",
       "      <td>male</td>\n",
       "      <td>22.0</td>\n",
       "      <td>0</td>\n",
       "      <td>0</td>\n",
       "      <td>8.0500</td>\n",
       "      <td>S</td>\n",
       "      <td>Third</td>\n",
       "      <td>NaN</td>\n",
       "      <td>Southampton</td>\n",
       "      <td>True</td>\n",
       "    </tr>\n",
       "    <tr>\n",
       "      <th>...</th>\n",
       "      <td>...</td>\n",
       "      <td>...</td>\n",
       "      <td>...</td>\n",
       "      <td>...</td>\n",
       "      <td>...</td>\n",
       "      <td>...</td>\n",
       "      <td>...</td>\n",
       "      <td>...</td>\n",
       "      <td>...</td>\n",
       "      <td>...</td>\n",
       "      <td>...</td>\n",
       "    </tr>\n",
       "    <tr>\n",
       "      <th>767</th>\n",
       "      <td>3</td>\n",
       "      <td>female</td>\n",
       "      <td>30.5</td>\n",
       "      <td>0</td>\n",
       "      <td>0</td>\n",
       "      <td>7.7500</td>\n",
       "      <td>Q</td>\n",
       "      <td>Third</td>\n",
       "      <td>NaN</td>\n",
       "      <td>Queenstown</td>\n",
       "      <td>True</td>\n",
       "    </tr>\n",
       "    <tr>\n",
       "      <th>639</th>\n",
       "      <td>3</td>\n",
       "      <td>male</td>\n",
       "      <td>NaN</td>\n",
       "      <td>1</td>\n",
       "      <td>0</td>\n",
       "      <td>16.1000</td>\n",
       "      <td>S</td>\n",
       "      <td>Third</td>\n",
       "      <td>NaN</td>\n",
       "      <td>Southampton</td>\n",
       "      <td>False</td>\n",
       "    </tr>\n",
       "    <tr>\n",
       "      <th>578</th>\n",
       "      <td>3</td>\n",
       "      <td>female</td>\n",
       "      <td>NaN</td>\n",
       "      <td>1</td>\n",
       "      <td>0</td>\n",
       "      <td>14.4583</td>\n",
       "      <td>C</td>\n",
       "      <td>Third</td>\n",
       "      <td>NaN</td>\n",
       "      <td>Cherbourg</td>\n",
       "      <td>False</td>\n",
       "    </tr>\n",
       "    <tr>\n",
       "      <th>669</th>\n",
       "      <td>1</td>\n",
       "      <td>female</td>\n",
       "      <td>NaN</td>\n",
       "      <td>1</td>\n",
       "      <td>0</td>\n",
       "      <td>52.0000</td>\n",
       "      <td>S</td>\n",
       "      <td>First</td>\n",
       "      <td>C</td>\n",
       "      <td>Southampton</td>\n",
       "      <td>False</td>\n",
       "    </tr>\n",
       "    <tr>\n",
       "      <th>111</th>\n",
       "      <td>3</td>\n",
       "      <td>female</td>\n",
       "      <td>14.5</td>\n",
       "      <td>1</td>\n",
       "      <td>0</td>\n",
       "      <td>14.4542</td>\n",
       "      <td>C</td>\n",
       "      <td>Third</td>\n",
       "      <td>NaN</td>\n",
       "      <td>Cherbourg</td>\n",
       "      <td>False</td>\n",
       "    </tr>\n",
       "  </tbody>\n",
       "</table>\n",
       "<p>623 rows × 11 columns</p>\n",
       "</div>"
      ],
      "text/plain": [
       "     pclass     sex   age  sibsp  parch     fare embarked  class deck  \\\n",
       "624       3    male  21.0      0      0  16.1000        S  Third  NaN   \n",
       "485       3  female   NaN      3      1  25.4667        S  Third  NaN   \n",
       "366       1  female  60.0      1      0  75.2500        C  First    D   \n",
       "206       3    male  32.0      1      0  15.8500        S  Third  NaN   \n",
       "588       3    male  22.0      0      0   8.0500        S  Third  NaN   \n",
       "..      ...     ...   ...    ...    ...      ...      ...    ...  ...   \n",
       "767       3  female  30.5      0      0   7.7500        Q  Third  NaN   \n",
       "639       3    male   NaN      1      0  16.1000        S  Third  NaN   \n",
       "578       3  female   NaN      1      0  14.4583        C  Third  NaN   \n",
       "669       1  female   NaN      1      0  52.0000        S  First    C   \n",
       "111       3  female  14.5      1      0  14.4542        C  Third  NaN   \n",
       "\n",
       "     embark_town  alone  \n",
       "624  Southampton   True  \n",
       "485  Southampton  False  \n",
       "366    Cherbourg  False  \n",
       "206  Southampton  False  \n",
       "588  Southampton   True  \n",
       "..           ...    ...  \n",
       "767   Queenstown   True  \n",
       "639  Southampton  False  \n",
       "578    Cherbourg  False  \n",
       "669  Southampton  False  \n",
       "111    Cherbourg  False  \n",
       "\n",
       "[623 rows x 11 columns]"
      ]
     },
     "execution_count": 4,
     "metadata": {},
     "output_type": "execute_result"
    }
   ],
   "source": [
    "X_train"
   ]
  },
  {
   "cell_type": "markdown",
   "metadata": {},
   "source": [
    "## (2) A first pipeline"
   ]
  },
  {
   "cell_type": "markdown",
   "metadata": {},
   "source": [
    "❓ Create a basic Pipeline which ***encodes categorical features*** and ***scales numerical features*** ❓\n",
    "\n",
    "💡 Use [`make_pipeline`](https://scikit-learn.org/stable/modules/generated/sklearn.pipeline.make_pipeline.html) and [`make_column_transformer`](https://scikit-learn.org/stable/modules/generated/sklearn.compose.make_column_transformer.html)"
   ]
  },
  {
   "cell_type": "code",
   "execution_count": 12,
   "metadata": {},
   "outputs": [
    {
     "data": {
      "text/plain": [
       "pclass           0\n",
       "sex              0\n",
       "age            125\n",
       "sibsp            0\n",
       "parch            0\n",
       "fare             0\n",
       "embarked         2\n",
       "class            0\n",
       "deck           479\n",
       "embark_town      2\n",
       "alone            0\n",
       "dtype: int64"
      ]
     },
     "execution_count": 12,
     "metadata": {},
     "output_type": "execute_result"
    }
   ],
   "source": [
    "X_train.isna().sum()"
   ]
  },
  {
   "cell_type": "code",
   "execution_count": 27,
   "metadata": {},
   "outputs": [],
   "source": [
    "num_features = ['age','fare','sibsp','parch']\n",
    "cat_features = ['pclass','sex','embarked','class','embark_town','alone']"
   ]
  },
  {
   "cell_type": "code",
   "execution_count": 22,
   "metadata": {},
   "outputs": [
    {
     "data": {
      "text/html": [
       "<style>#sk-00a8ef77-a553-4ee3-adac-4f97f205a926 {color: black;background-color: white;}#sk-00a8ef77-a553-4ee3-adac-4f97f205a926 pre{padding: 0;}#sk-00a8ef77-a553-4ee3-adac-4f97f205a926 div.sk-toggleable {background-color: white;}#sk-00a8ef77-a553-4ee3-adac-4f97f205a926 label.sk-toggleable__label {cursor: pointer;display: block;width: 100%;margin-bottom: 0;padding: 0.3em;box-sizing: border-box;text-align: center;}#sk-00a8ef77-a553-4ee3-adac-4f97f205a926 label.sk-toggleable__label-arrow:before {content: \"▸\";float: left;margin-right: 0.25em;color: #696969;}#sk-00a8ef77-a553-4ee3-adac-4f97f205a926 label.sk-toggleable__label-arrow:hover:before {color: black;}#sk-00a8ef77-a553-4ee3-adac-4f97f205a926 div.sk-estimator:hover label.sk-toggleable__label-arrow:before {color: black;}#sk-00a8ef77-a553-4ee3-adac-4f97f205a926 div.sk-toggleable__content {max-height: 0;max-width: 0;overflow: hidden;text-align: left;background-color: #f0f8ff;}#sk-00a8ef77-a553-4ee3-adac-4f97f205a926 div.sk-toggleable__content pre {margin: 0.2em;color: black;border-radius: 0.25em;background-color: #f0f8ff;}#sk-00a8ef77-a553-4ee3-adac-4f97f205a926 input.sk-toggleable__control:checked~div.sk-toggleable__content {max-height: 200px;max-width: 100%;overflow: auto;}#sk-00a8ef77-a553-4ee3-adac-4f97f205a926 input.sk-toggleable__control:checked~label.sk-toggleable__label-arrow:before {content: \"▾\";}#sk-00a8ef77-a553-4ee3-adac-4f97f205a926 div.sk-estimator input.sk-toggleable__control:checked~label.sk-toggleable__label {background-color: #d4ebff;}#sk-00a8ef77-a553-4ee3-adac-4f97f205a926 div.sk-label input.sk-toggleable__control:checked~label.sk-toggleable__label {background-color: #d4ebff;}#sk-00a8ef77-a553-4ee3-adac-4f97f205a926 input.sk-hidden--visually {border: 0;clip: rect(1px 1px 1px 1px);clip: rect(1px, 1px, 1px, 1px);height: 1px;margin: -1px;overflow: hidden;padding: 0;position: absolute;width: 1px;}#sk-00a8ef77-a553-4ee3-adac-4f97f205a926 div.sk-estimator {font-family: monospace;background-color: #f0f8ff;border: 1px dotted black;border-radius: 0.25em;box-sizing: border-box;margin-bottom: 0.5em;}#sk-00a8ef77-a553-4ee3-adac-4f97f205a926 div.sk-estimator:hover {background-color: #d4ebff;}#sk-00a8ef77-a553-4ee3-adac-4f97f205a926 div.sk-parallel-item::after {content: \"\";width: 100%;border-bottom: 1px solid gray;flex-grow: 1;}#sk-00a8ef77-a553-4ee3-adac-4f97f205a926 div.sk-label:hover label.sk-toggleable__label {background-color: #d4ebff;}#sk-00a8ef77-a553-4ee3-adac-4f97f205a926 div.sk-serial::before {content: \"\";position: absolute;border-left: 1px solid gray;box-sizing: border-box;top: 2em;bottom: 0;left: 50%;}#sk-00a8ef77-a553-4ee3-adac-4f97f205a926 div.sk-serial {display: flex;flex-direction: column;align-items: center;background-color: white;padding-right: 0.2em;padding-left: 0.2em;}#sk-00a8ef77-a553-4ee3-adac-4f97f205a926 div.sk-item {z-index: 1;}#sk-00a8ef77-a553-4ee3-adac-4f97f205a926 div.sk-parallel {display: flex;align-items: stretch;justify-content: center;background-color: white;}#sk-00a8ef77-a553-4ee3-adac-4f97f205a926 div.sk-parallel::before {content: \"\";position: absolute;border-left: 1px solid gray;box-sizing: border-box;top: 2em;bottom: 0;left: 50%;}#sk-00a8ef77-a553-4ee3-adac-4f97f205a926 div.sk-parallel-item {display: flex;flex-direction: column;position: relative;background-color: white;}#sk-00a8ef77-a553-4ee3-adac-4f97f205a926 div.sk-parallel-item:first-child::after {align-self: flex-end;width: 50%;}#sk-00a8ef77-a553-4ee3-adac-4f97f205a926 div.sk-parallel-item:last-child::after {align-self: flex-start;width: 50%;}#sk-00a8ef77-a553-4ee3-adac-4f97f205a926 div.sk-parallel-item:only-child::after {width: 0;}#sk-00a8ef77-a553-4ee3-adac-4f97f205a926 div.sk-dashed-wrapped {border: 1px dashed gray;margin: 0 0.4em 0.5em 0.4em;box-sizing: border-box;padding-bottom: 0.4em;background-color: white;position: relative;}#sk-00a8ef77-a553-4ee3-adac-4f97f205a926 div.sk-label label {font-family: monospace;font-weight: bold;background-color: white;display: inline-block;line-height: 1.2em;}#sk-00a8ef77-a553-4ee3-adac-4f97f205a926 div.sk-label-container {position: relative;z-index: 2;text-align: center;}#sk-00a8ef77-a553-4ee3-adac-4f97f205a926 div.sk-container {/* jupyter's `normalize.less` sets `[hidden] { display: none; }` but bootstrap.min.css set `[hidden] { display: none !important; }` so we also need the `!important` here to be able to override the default hidden behavior on the sphinx rendered scikit-learn.org. See: https://github.com/scikit-learn/scikit-learn/issues/21755 */display: inline-block !important;position: relative;}#sk-00a8ef77-a553-4ee3-adac-4f97f205a926 div.sk-text-repr-fallback {display: none;}</style><div id=\"sk-00a8ef77-a553-4ee3-adac-4f97f205a926\" class=\"sk-top-container\"><div class=\"sk-text-repr-fallback\"><pre>Pipeline(steps=[(&#x27;imputer&#x27;, SimpleImputer(strategy=&#x27;median&#x27;)),\n",
       "                (&#x27;scaler&#x27;, RobustScaler())])</pre><b>Please rerun this cell to show the HTML repr or trust the notebook.</b></div><div class=\"sk-container\" hidden><div class=\"sk-item sk-dashed-wrapped\"><div class=\"sk-label-container\"><div class=\"sk-label sk-toggleable\"><input class=\"sk-toggleable__control sk-hidden--visually\" id=\"dd1eb200-8ca3-45a0-98dd-b80187293e63\" type=\"checkbox\" ><label for=\"dd1eb200-8ca3-45a0-98dd-b80187293e63\" class=\"sk-toggleable__label sk-toggleable__label-arrow\">Pipeline</label><div class=\"sk-toggleable__content\"><pre>Pipeline(steps=[(&#x27;imputer&#x27;, SimpleImputer(strategy=&#x27;median&#x27;)),\n",
       "                (&#x27;scaler&#x27;, RobustScaler())])</pre></div></div></div><div class=\"sk-serial\"><div class=\"sk-item\"><div class=\"sk-estimator sk-toggleable\"><input class=\"sk-toggleable__control sk-hidden--visually\" id=\"dcacebf9-229e-444b-aff5-640f61a34156\" type=\"checkbox\" ><label for=\"dcacebf9-229e-444b-aff5-640f61a34156\" class=\"sk-toggleable__label sk-toggleable__label-arrow\">SimpleImputer</label><div class=\"sk-toggleable__content\"><pre>SimpleImputer(strategy=&#x27;median&#x27;)</pre></div></div></div><div class=\"sk-item\"><div class=\"sk-estimator sk-toggleable\"><input class=\"sk-toggleable__control sk-hidden--visually\" id=\"47f6400c-465a-4108-b8be-c619ebc4aea6\" type=\"checkbox\" ><label for=\"47f6400c-465a-4108-b8be-c619ebc4aea6\" class=\"sk-toggleable__label sk-toggleable__label-arrow\">RobustScaler</label><div class=\"sk-toggleable__content\"><pre>RobustScaler()</pre></div></div></div></div></div></div></div>"
      ],
      "text/plain": [
       "Pipeline(steps=[('imputer', SimpleImputer(strategy='median')),\n",
       "                ('scaler', RobustScaler())])"
      ]
     },
     "execution_count": 22,
     "metadata": {},
     "output_type": "execute_result"
    }
   ],
   "source": [
    "num_pipeline = Pipeline(\n",
    "    [\n",
    "        #(id , transformer object )\n",
    "        ('imputer', SimpleImputer(strategy='median') ),\n",
    "        ('scaler', RobustScaler() )\n",
    "    ]\n",
    ")\n",
    "num_pipeline  "
   ]
  },
  {
   "cell_type": "code",
   "execution_count": 33,
   "metadata": {},
   "outputs": [
    {
     "data": {
      "text/plain": [
       "array([[-5.38461538e-01,  7.03083512e-02,  0.00000000e+00,\n",
       "         0.00000000e+00],\n",
       "       [ 0.00000000e+00,  4.71451820e-01,  3.00000000e+00,\n",
       "         1.00000000e+00],\n",
       "       [ 2.46153846e+00,  2.60349893e+00,  1.00000000e+00,\n",
       "         0.00000000e+00],\n",
       "       ...,\n",
       "       [ 0.00000000e+00,  0.00000000e+00,  1.00000000e+00,\n",
       "         0.00000000e+00],\n",
       "       [ 0.00000000e+00,  1.60778158e+00,  1.00000000e+00,\n",
       "         0.00000000e+00],\n",
       "       [-1.03846154e+00, -1.75588865e-04,  1.00000000e+00,\n",
       "         0.00000000e+00]])"
      ]
     },
     "execution_count": 33,
     "metadata": {},
     "output_type": "execute_result"
    }
   ],
   "source": [
    "num_pipeline.fit(X_train[num_features])\n",
    "num_pipeline.transform(X_train[num_features])"
   ]
  },
  {
   "cell_type": "code",
   "execution_count": 35,
   "metadata": {},
   "outputs": [
    {
     "data": {
      "text/html": [
       "<style>#sk-5d91ade4-0b7d-49f5-8dd0-425d52bec7d1 {color: black;background-color: white;}#sk-5d91ade4-0b7d-49f5-8dd0-425d52bec7d1 pre{padding: 0;}#sk-5d91ade4-0b7d-49f5-8dd0-425d52bec7d1 div.sk-toggleable {background-color: white;}#sk-5d91ade4-0b7d-49f5-8dd0-425d52bec7d1 label.sk-toggleable__label {cursor: pointer;display: block;width: 100%;margin-bottom: 0;padding: 0.3em;box-sizing: border-box;text-align: center;}#sk-5d91ade4-0b7d-49f5-8dd0-425d52bec7d1 label.sk-toggleable__label-arrow:before {content: \"▸\";float: left;margin-right: 0.25em;color: #696969;}#sk-5d91ade4-0b7d-49f5-8dd0-425d52bec7d1 label.sk-toggleable__label-arrow:hover:before {color: black;}#sk-5d91ade4-0b7d-49f5-8dd0-425d52bec7d1 div.sk-estimator:hover label.sk-toggleable__label-arrow:before {color: black;}#sk-5d91ade4-0b7d-49f5-8dd0-425d52bec7d1 div.sk-toggleable__content {max-height: 0;max-width: 0;overflow: hidden;text-align: left;background-color: #f0f8ff;}#sk-5d91ade4-0b7d-49f5-8dd0-425d52bec7d1 div.sk-toggleable__content pre {margin: 0.2em;color: black;border-radius: 0.25em;background-color: #f0f8ff;}#sk-5d91ade4-0b7d-49f5-8dd0-425d52bec7d1 input.sk-toggleable__control:checked~div.sk-toggleable__content {max-height: 200px;max-width: 100%;overflow: auto;}#sk-5d91ade4-0b7d-49f5-8dd0-425d52bec7d1 input.sk-toggleable__control:checked~label.sk-toggleable__label-arrow:before {content: \"▾\";}#sk-5d91ade4-0b7d-49f5-8dd0-425d52bec7d1 div.sk-estimator input.sk-toggleable__control:checked~label.sk-toggleable__label {background-color: #d4ebff;}#sk-5d91ade4-0b7d-49f5-8dd0-425d52bec7d1 div.sk-label input.sk-toggleable__control:checked~label.sk-toggleable__label {background-color: #d4ebff;}#sk-5d91ade4-0b7d-49f5-8dd0-425d52bec7d1 input.sk-hidden--visually {border: 0;clip: rect(1px 1px 1px 1px);clip: rect(1px, 1px, 1px, 1px);height: 1px;margin: -1px;overflow: hidden;padding: 0;position: absolute;width: 1px;}#sk-5d91ade4-0b7d-49f5-8dd0-425d52bec7d1 div.sk-estimator {font-family: monospace;background-color: #f0f8ff;border: 1px dotted black;border-radius: 0.25em;box-sizing: border-box;margin-bottom: 0.5em;}#sk-5d91ade4-0b7d-49f5-8dd0-425d52bec7d1 div.sk-estimator:hover {background-color: #d4ebff;}#sk-5d91ade4-0b7d-49f5-8dd0-425d52bec7d1 div.sk-parallel-item::after {content: \"\";width: 100%;border-bottom: 1px solid gray;flex-grow: 1;}#sk-5d91ade4-0b7d-49f5-8dd0-425d52bec7d1 div.sk-label:hover label.sk-toggleable__label {background-color: #d4ebff;}#sk-5d91ade4-0b7d-49f5-8dd0-425d52bec7d1 div.sk-serial::before {content: \"\";position: absolute;border-left: 1px solid gray;box-sizing: border-box;top: 2em;bottom: 0;left: 50%;}#sk-5d91ade4-0b7d-49f5-8dd0-425d52bec7d1 div.sk-serial {display: flex;flex-direction: column;align-items: center;background-color: white;padding-right: 0.2em;padding-left: 0.2em;}#sk-5d91ade4-0b7d-49f5-8dd0-425d52bec7d1 div.sk-item {z-index: 1;}#sk-5d91ade4-0b7d-49f5-8dd0-425d52bec7d1 div.sk-parallel {display: flex;align-items: stretch;justify-content: center;background-color: white;}#sk-5d91ade4-0b7d-49f5-8dd0-425d52bec7d1 div.sk-parallel::before {content: \"\";position: absolute;border-left: 1px solid gray;box-sizing: border-box;top: 2em;bottom: 0;left: 50%;}#sk-5d91ade4-0b7d-49f5-8dd0-425d52bec7d1 div.sk-parallel-item {display: flex;flex-direction: column;position: relative;background-color: white;}#sk-5d91ade4-0b7d-49f5-8dd0-425d52bec7d1 div.sk-parallel-item:first-child::after {align-self: flex-end;width: 50%;}#sk-5d91ade4-0b7d-49f5-8dd0-425d52bec7d1 div.sk-parallel-item:last-child::after {align-self: flex-start;width: 50%;}#sk-5d91ade4-0b7d-49f5-8dd0-425d52bec7d1 div.sk-parallel-item:only-child::after {width: 0;}#sk-5d91ade4-0b7d-49f5-8dd0-425d52bec7d1 div.sk-dashed-wrapped {border: 1px dashed gray;margin: 0 0.4em 0.5em 0.4em;box-sizing: border-box;padding-bottom: 0.4em;background-color: white;position: relative;}#sk-5d91ade4-0b7d-49f5-8dd0-425d52bec7d1 div.sk-label label {font-family: monospace;font-weight: bold;background-color: white;display: inline-block;line-height: 1.2em;}#sk-5d91ade4-0b7d-49f5-8dd0-425d52bec7d1 div.sk-label-container {position: relative;z-index: 2;text-align: center;}#sk-5d91ade4-0b7d-49f5-8dd0-425d52bec7d1 div.sk-container {/* jupyter's `normalize.less` sets `[hidden] { display: none; }` but bootstrap.min.css set `[hidden] { display: none !important; }` so we also need the `!important` here to be able to override the default hidden behavior on the sphinx rendered scikit-learn.org. See: https://github.com/scikit-learn/scikit-learn/issues/21755 */display: inline-block !important;position: relative;}#sk-5d91ade4-0b7d-49f5-8dd0-425d52bec7d1 div.sk-text-repr-fallback {display: none;}</style><div id=\"sk-5d91ade4-0b7d-49f5-8dd0-425d52bec7d1\" class=\"sk-top-container\"><div class=\"sk-text-repr-fallback\"><pre>Pipeline(steps=[(&#x27;imputer&#x27;, SimpleImputer(strategy=&#x27;most_frequent&#x27;)),\n",
       "                (&#x27;encoder&#x27;, OneHotEncoder(sparse=False))])</pre><b>Please rerun this cell to show the HTML repr or trust the notebook.</b></div><div class=\"sk-container\" hidden><div class=\"sk-item sk-dashed-wrapped\"><div class=\"sk-label-container\"><div class=\"sk-label sk-toggleable\"><input class=\"sk-toggleable__control sk-hidden--visually\" id=\"59070527-7008-4bdb-9677-db10ddbcdd39\" type=\"checkbox\" ><label for=\"59070527-7008-4bdb-9677-db10ddbcdd39\" class=\"sk-toggleable__label sk-toggleable__label-arrow\">Pipeline</label><div class=\"sk-toggleable__content\"><pre>Pipeline(steps=[(&#x27;imputer&#x27;, SimpleImputer(strategy=&#x27;most_frequent&#x27;)),\n",
       "                (&#x27;encoder&#x27;, OneHotEncoder(sparse=False))])</pre></div></div></div><div class=\"sk-serial\"><div class=\"sk-item\"><div class=\"sk-estimator sk-toggleable\"><input class=\"sk-toggleable__control sk-hidden--visually\" id=\"564c9623-6c66-4053-9312-b935da50f8f0\" type=\"checkbox\" ><label for=\"564c9623-6c66-4053-9312-b935da50f8f0\" class=\"sk-toggleable__label sk-toggleable__label-arrow\">SimpleImputer</label><div class=\"sk-toggleable__content\"><pre>SimpleImputer(strategy=&#x27;most_frequent&#x27;)</pre></div></div></div><div class=\"sk-item\"><div class=\"sk-estimator sk-toggleable\"><input class=\"sk-toggleable__control sk-hidden--visually\" id=\"3b4104f6-d7d3-4d68-9a9e-6d7ec6db2dd3\" type=\"checkbox\" ><label for=\"3b4104f6-d7d3-4d68-9a9e-6d7ec6db2dd3\" class=\"sk-toggleable__label sk-toggleable__label-arrow\">OneHotEncoder</label><div class=\"sk-toggleable__content\"><pre>OneHotEncoder(sparse=False)</pre></div></div></div></div></div></div></div>"
      ],
      "text/plain": [
       "Pipeline(steps=[('imputer', SimpleImputer(strategy='most_frequent')),\n",
       "                ('encoder', OneHotEncoder(sparse=False))])"
      ]
     },
     "execution_count": 35,
     "metadata": {},
     "output_type": "execute_result"
    }
   ],
   "source": [
    "cat_pipeline = Pipeline(\n",
    "    [\n",
    "        #(id , transformer object )\n",
    "        ('imputer', SimpleImputer(strategy='most_frequent') ),\n",
    "        ('encoder', OneHotEncoder(sparse=False) )\n",
    "    ]\n",
    ")\n",
    "cat_pipeline"
   ]
  },
  {
   "cell_type": "code",
   "execution_count": 39,
   "metadata": {},
   "outputs": [
    {
     "data": {
      "text/plain": [
       "array([[0., 0., 1., ..., 1., 0., 1.],\n",
       "       [0., 0., 1., ..., 1., 1., 0.],\n",
       "       [1., 0., 0., ..., 0., 1., 0.],\n",
       "       ...,\n",
       "       [0., 0., 1., ..., 0., 1., 0.],\n",
       "       [1., 0., 0., ..., 1., 1., 0.],\n",
       "       [0., 0., 1., ..., 0., 1., 0.]])"
      ]
     },
     "execution_count": 39,
     "metadata": {},
     "output_type": "execute_result"
    }
   ],
   "source": [
    "cat_pipeline.fit(X_train[cat_features])\n",
    "cat_pipeline.transform(X_train[cat_features])"
   ]
  },
  {
   "cell_type": "code",
   "execution_count": 40,
   "metadata": {},
   "outputs": [
    {
     "data": {
      "text/html": [
       "<style>#sk-4d4c9e37-dd88-472b-9428-a58ba44ba98d {color: black;background-color: white;}#sk-4d4c9e37-dd88-472b-9428-a58ba44ba98d pre{padding: 0;}#sk-4d4c9e37-dd88-472b-9428-a58ba44ba98d div.sk-toggleable {background-color: white;}#sk-4d4c9e37-dd88-472b-9428-a58ba44ba98d label.sk-toggleable__label {cursor: pointer;display: block;width: 100%;margin-bottom: 0;padding: 0.3em;box-sizing: border-box;text-align: center;}#sk-4d4c9e37-dd88-472b-9428-a58ba44ba98d label.sk-toggleable__label-arrow:before {content: \"▸\";float: left;margin-right: 0.25em;color: #696969;}#sk-4d4c9e37-dd88-472b-9428-a58ba44ba98d label.sk-toggleable__label-arrow:hover:before {color: black;}#sk-4d4c9e37-dd88-472b-9428-a58ba44ba98d div.sk-estimator:hover label.sk-toggleable__label-arrow:before {color: black;}#sk-4d4c9e37-dd88-472b-9428-a58ba44ba98d div.sk-toggleable__content {max-height: 0;max-width: 0;overflow: hidden;text-align: left;background-color: #f0f8ff;}#sk-4d4c9e37-dd88-472b-9428-a58ba44ba98d div.sk-toggleable__content pre {margin: 0.2em;color: black;border-radius: 0.25em;background-color: #f0f8ff;}#sk-4d4c9e37-dd88-472b-9428-a58ba44ba98d input.sk-toggleable__control:checked~div.sk-toggleable__content {max-height: 200px;max-width: 100%;overflow: auto;}#sk-4d4c9e37-dd88-472b-9428-a58ba44ba98d input.sk-toggleable__control:checked~label.sk-toggleable__label-arrow:before {content: \"▾\";}#sk-4d4c9e37-dd88-472b-9428-a58ba44ba98d div.sk-estimator input.sk-toggleable__control:checked~label.sk-toggleable__label {background-color: #d4ebff;}#sk-4d4c9e37-dd88-472b-9428-a58ba44ba98d div.sk-label input.sk-toggleable__control:checked~label.sk-toggleable__label {background-color: #d4ebff;}#sk-4d4c9e37-dd88-472b-9428-a58ba44ba98d input.sk-hidden--visually {border: 0;clip: rect(1px 1px 1px 1px);clip: rect(1px, 1px, 1px, 1px);height: 1px;margin: -1px;overflow: hidden;padding: 0;position: absolute;width: 1px;}#sk-4d4c9e37-dd88-472b-9428-a58ba44ba98d div.sk-estimator {font-family: monospace;background-color: #f0f8ff;border: 1px dotted black;border-radius: 0.25em;box-sizing: border-box;margin-bottom: 0.5em;}#sk-4d4c9e37-dd88-472b-9428-a58ba44ba98d div.sk-estimator:hover {background-color: #d4ebff;}#sk-4d4c9e37-dd88-472b-9428-a58ba44ba98d div.sk-parallel-item::after {content: \"\";width: 100%;border-bottom: 1px solid gray;flex-grow: 1;}#sk-4d4c9e37-dd88-472b-9428-a58ba44ba98d div.sk-label:hover label.sk-toggleable__label {background-color: #d4ebff;}#sk-4d4c9e37-dd88-472b-9428-a58ba44ba98d div.sk-serial::before {content: \"\";position: absolute;border-left: 1px solid gray;box-sizing: border-box;top: 2em;bottom: 0;left: 50%;}#sk-4d4c9e37-dd88-472b-9428-a58ba44ba98d div.sk-serial {display: flex;flex-direction: column;align-items: center;background-color: white;padding-right: 0.2em;padding-left: 0.2em;}#sk-4d4c9e37-dd88-472b-9428-a58ba44ba98d div.sk-item {z-index: 1;}#sk-4d4c9e37-dd88-472b-9428-a58ba44ba98d div.sk-parallel {display: flex;align-items: stretch;justify-content: center;background-color: white;}#sk-4d4c9e37-dd88-472b-9428-a58ba44ba98d div.sk-parallel::before {content: \"\";position: absolute;border-left: 1px solid gray;box-sizing: border-box;top: 2em;bottom: 0;left: 50%;}#sk-4d4c9e37-dd88-472b-9428-a58ba44ba98d div.sk-parallel-item {display: flex;flex-direction: column;position: relative;background-color: white;}#sk-4d4c9e37-dd88-472b-9428-a58ba44ba98d div.sk-parallel-item:first-child::after {align-self: flex-end;width: 50%;}#sk-4d4c9e37-dd88-472b-9428-a58ba44ba98d div.sk-parallel-item:last-child::after {align-self: flex-start;width: 50%;}#sk-4d4c9e37-dd88-472b-9428-a58ba44ba98d div.sk-parallel-item:only-child::after {width: 0;}#sk-4d4c9e37-dd88-472b-9428-a58ba44ba98d div.sk-dashed-wrapped {border: 1px dashed gray;margin: 0 0.4em 0.5em 0.4em;box-sizing: border-box;padding-bottom: 0.4em;background-color: white;position: relative;}#sk-4d4c9e37-dd88-472b-9428-a58ba44ba98d div.sk-label label {font-family: monospace;font-weight: bold;background-color: white;display: inline-block;line-height: 1.2em;}#sk-4d4c9e37-dd88-472b-9428-a58ba44ba98d div.sk-label-container {position: relative;z-index: 2;text-align: center;}#sk-4d4c9e37-dd88-472b-9428-a58ba44ba98d div.sk-container {/* jupyter's `normalize.less` sets `[hidden] { display: none; }` but bootstrap.min.css set `[hidden] { display: none !important; }` so we also need the `!important` here to be able to override the default hidden behavior on the sphinx rendered scikit-learn.org. See: https://github.com/scikit-learn/scikit-learn/issues/21755 */display: inline-block !important;position: relative;}#sk-4d4c9e37-dd88-472b-9428-a58ba44ba98d div.sk-text-repr-fallback {display: none;}</style><div id=\"sk-4d4c9e37-dd88-472b-9428-a58ba44ba98d\" class=\"sk-top-container\"><div class=\"sk-text-repr-fallback\"><pre>ColumnTransformer(transformers=[(&#x27;num_pipeline&#x27;,\n",
       "                                 Pipeline(steps=[(&#x27;imputer&#x27;,\n",
       "                                                  SimpleImputer(strategy=&#x27;median&#x27;)),\n",
       "                                                 (&#x27;scaler&#x27;, RobustScaler())]),\n",
       "                                 [&#x27;age&#x27;, &#x27;fare&#x27;, &#x27;sibsp&#x27;, &#x27;parch&#x27;]),\n",
       "                                (&#x27;cat_pipeline&#x27;,\n",
       "                                 Pipeline(steps=[(&#x27;imputer&#x27;,\n",
       "                                                  SimpleImputer(strategy=&#x27;most_frequent&#x27;)),\n",
       "                                                 (&#x27;encoder&#x27;,\n",
       "                                                  OneHotEncoder(sparse=False))]),\n",
       "                                 [&#x27;pclass&#x27;, &#x27;sex&#x27;, &#x27;embarked&#x27;, &#x27;class&#x27;,\n",
       "                                  &#x27;embark_town&#x27;, &#x27;alone&#x27;])])</pre><b>Please rerun this cell to show the HTML repr or trust the notebook.</b></div><div class=\"sk-container\" hidden><div class=\"sk-item sk-dashed-wrapped\"><div class=\"sk-label-container\"><div class=\"sk-label sk-toggleable\"><input class=\"sk-toggleable__control sk-hidden--visually\" id=\"f85d079a-9acc-4711-b772-38b4fcc8650a\" type=\"checkbox\" ><label for=\"f85d079a-9acc-4711-b772-38b4fcc8650a\" class=\"sk-toggleable__label sk-toggleable__label-arrow\">ColumnTransformer</label><div class=\"sk-toggleable__content\"><pre>ColumnTransformer(transformers=[(&#x27;num_pipeline&#x27;,\n",
       "                                 Pipeline(steps=[(&#x27;imputer&#x27;,\n",
       "                                                  SimpleImputer(strategy=&#x27;median&#x27;)),\n",
       "                                                 (&#x27;scaler&#x27;, RobustScaler())]),\n",
       "                                 [&#x27;age&#x27;, &#x27;fare&#x27;, &#x27;sibsp&#x27;, &#x27;parch&#x27;]),\n",
       "                                (&#x27;cat_pipeline&#x27;,\n",
       "                                 Pipeline(steps=[(&#x27;imputer&#x27;,\n",
       "                                                  SimpleImputer(strategy=&#x27;most_frequent&#x27;)),\n",
       "                                                 (&#x27;encoder&#x27;,\n",
       "                                                  OneHotEncoder(sparse=False))]),\n",
       "                                 [&#x27;pclass&#x27;, &#x27;sex&#x27;, &#x27;embarked&#x27;, &#x27;class&#x27;,\n",
       "                                  &#x27;embark_town&#x27;, &#x27;alone&#x27;])])</pre></div></div></div><div class=\"sk-parallel\"><div class=\"sk-parallel-item\"><div class=\"sk-item\"><div class=\"sk-label-container\"><div class=\"sk-label sk-toggleable\"><input class=\"sk-toggleable__control sk-hidden--visually\" id=\"77c4bbc3-9874-4d3c-b829-862caa5e608e\" type=\"checkbox\" ><label for=\"77c4bbc3-9874-4d3c-b829-862caa5e608e\" class=\"sk-toggleable__label sk-toggleable__label-arrow\">num_pipeline</label><div class=\"sk-toggleable__content\"><pre>[&#x27;age&#x27;, &#x27;fare&#x27;, &#x27;sibsp&#x27;, &#x27;parch&#x27;]</pre></div></div></div><div class=\"sk-serial\"><div class=\"sk-item\"><div class=\"sk-serial\"><div class=\"sk-item\"><div class=\"sk-estimator sk-toggleable\"><input class=\"sk-toggleable__control sk-hidden--visually\" id=\"a9eb59f8-31b7-45db-9e79-893e996a4d4e\" type=\"checkbox\" ><label for=\"a9eb59f8-31b7-45db-9e79-893e996a4d4e\" class=\"sk-toggleable__label sk-toggleable__label-arrow\">SimpleImputer</label><div class=\"sk-toggleable__content\"><pre>SimpleImputer(strategy=&#x27;median&#x27;)</pre></div></div></div><div class=\"sk-item\"><div class=\"sk-estimator sk-toggleable\"><input class=\"sk-toggleable__control sk-hidden--visually\" id=\"1440e308-8814-42a6-b21a-acce25ac418d\" type=\"checkbox\" ><label for=\"1440e308-8814-42a6-b21a-acce25ac418d\" class=\"sk-toggleable__label sk-toggleable__label-arrow\">RobustScaler</label><div class=\"sk-toggleable__content\"><pre>RobustScaler()</pre></div></div></div></div></div></div></div></div><div class=\"sk-parallel-item\"><div class=\"sk-item\"><div class=\"sk-label-container\"><div class=\"sk-label sk-toggleable\"><input class=\"sk-toggleable__control sk-hidden--visually\" id=\"caf22514-035c-4c63-b984-699cd33243ef\" type=\"checkbox\" ><label for=\"caf22514-035c-4c63-b984-699cd33243ef\" class=\"sk-toggleable__label sk-toggleable__label-arrow\">cat_pipeline</label><div class=\"sk-toggleable__content\"><pre>[&#x27;pclass&#x27;, &#x27;sex&#x27;, &#x27;embarked&#x27;, &#x27;class&#x27;, &#x27;embark_town&#x27;, &#x27;alone&#x27;]</pre></div></div></div><div class=\"sk-serial\"><div class=\"sk-item\"><div class=\"sk-serial\"><div class=\"sk-item\"><div class=\"sk-estimator sk-toggleable\"><input class=\"sk-toggleable__control sk-hidden--visually\" id=\"b04c80ee-726f-4181-b177-2f430d51fe4e\" type=\"checkbox\" ><label for=\"b04c80ee-726f-4181-b177-2f430d51fe4e\" class=\"sk-toggleable__label sk-toggleable__label-arrow\">SimpleImputer</label><div class=\"sk-toggleable__content\"><pre>SimpleImputer(strategy=&#x27;most_frequent&#x27;)</pre></div></div></div><div class=\"sk-item\"><div class=\"sk-estimator sk-toggleable\"><input class=\"sk-toggleable__control sk-hidden--visually\" id=\"e6167883-d835-496e-b234-42aa096fdc79\" type=\"checkbox\" ><label for=\"e6167883-d835-496e-b234-42aa096fdc79\" class=\"sk-toggleable__label sk-toggleable__label-arrow\">OneHotEncoder</label><div class=\"sk-toggleable__content\"><pre>OneHotEncoder(sparse=False)</pre></div></div></div></div></div></div></div></div></div></div></div></div>"
      ],
      "text/plain": [
       "ColumnTransformer(transformers=[('num_pipeline',\n",
       "                                 Pipeline(steps=[('imputer',\n",
       "                                                  SimpleImputer(strategy='median')),\n",
       "                                                 ('scaler', RobustScaler())]),\n",
       "                                 ['age', 'fare', 'sibsp', 'parch']),\n",
       "                                ('cat_pipeline',\n",
       "                                 Pipeline(steps=[('imputer',\n",
       "                                                  SimpleImputer(strategy='most_frequent')),\n",
       "                                                 ('encoder',\n",
       "                                                  OneHotEncoder(sparse=False))]),\n",
       "                                 ['pclass', 'sex', 'embarked', 'class',\n",
       "                                  'embark_town', 'alone'])])"
      ]
     },
     "execution_count": 40,
     "metadata": {},
     "output_type": "execute_result"
    }
   ],
   "source": [
    "preprocessing = ColumnTransformer(\n",
    "    [\n",
    "        #(name, transformer obect, columns)\n",
    "        ('num_pipeline', num_pipeline, num_features ),\n",
    "        ('cat_pipeline', cat_pipeline, cat_features )\n",
    "    ]\n",
    ")\n",
    "preprocessing"
   ]
  },
  {
   "cell_type": "code",
   "execution_count": 41,
   "metadata": {},
   "outputs": [
    {
     "data": {
      "text/plain": [
       "array([[-5.38461538e-01,  7.03083512e-02,  0.00000000e+00, ...,\n",
       "         1.00000000e+00,  0.00000000e+00,  1.00000000e+00],\n",
       "       [ 0.00000000e+00,  4.71451820e-01,  3.00000000e+00, ...,\n",
       "         1.00000000e+00,  1.00000000e+00,  0.00000000e+00],\n",
       "       [ 2.46153846e+00,  2.60349893e+00,  1.00000000e+00, ...,\n",
       "         0.00000000e+00,  1.00000000e+00,  0.00000000e+00],\n",
       "       ...,\n",
       "       [ 0.00000000e+00,  0.00000000e+00,  1.00000000e+00, ...,\n",
       "         0.00000000e+00,  1.00000000e+00,  0.00000000e+00],\n",
       "       [ 0.00000000e+00,  1.60778158e+00,  1.00000000e+00, ...,\n",
       "         1.00000000e+00,  1.00000000e+00,  0.00000000e+00],\n",
       "       [-1.03846154e+00, -1.75588865e-04,  1.00000000e+00, ...,\n",
       "         0.00000000e+00,  1.00000000e+00,  0.00000000e+00]])"
      ]
     },
     "execution_count": 41,
     "metadata": {},
     "output_type": "execute_result"
    }
   ],
   "source": [
    "preprocessing.fit(X_train)\n",
    "preprocessing.transform(X_train)"
   ]
  },
  {
   "cell_type": "code",
   "execution_count": 30,
   "metadata": {},
   "outputs": [
    {
     "data": {
      "text/html": [
       "<style>#sk-921dee9b-9c16-4731-bc51-d9697d87383f {color: black;background-color: white;}#sk-921dee9b-9c16-4731-bc51-d9697d87383f pre{padding: 0;}#sk-921dee9b-9c16-4731-bc51-d9697d87383f div.sk-toggleable {background-color: white;}#sk-921dee9b-9c16-4731-bc51-d9697d87383f label.sk-toggleable__label {cursor: pointer;display: block;width: 100%;margin-bottom: 0;padding: 0.3em;box-sizing: border-box;text-align: center;}#sk-921dee9b-9c16-4731-bc51-d9697d87383f label.sk-toggleable__label-arrow:before {content: \"▸\";float: left;margin-right: 0.25em;color: #696969;}#sk-921dee9b-9c16-4731-bc51-d9697d87383f label.sk-toggleable__label-arrow:hover:before {color: black;}#sk-921dee9b-9c16-4731-bc51-d9697d87383f div.sk-estimator:hover label.sk-toggleable__label-arrow:before {color: black;}#sk-921dee9b-9c16-4731-bc51-d9697d87383f div.sk-toggleable__content {max-height: 0;max-width: 0;overflow: hidden;text-align: left;background-color: #f0f8ff;}#sk-921dee9b-9c16-4731-bc51-d9697d87383f div.sk-toggleable__content pre {margin: 0.2em;color: black;border-radius: 0.25em;background-color: #f0f8ff;}#sk-921dee9b-9c16-4731-bc51-d9697d87383f input.sk-toggleable__control:checked~div.sk-toggleable__content {max-height: 200px;max-width: 100%;overflow: auto;}#sk-921dee9b-9c16-4731-bc51-d9697d87383f input.sk-toggleable__control:checked~label.sk-toggleable__label-arrow:before {content: \"▾\";}#sk-921dee9b-9c16-4731-bc51-d9697d87383f div.sk-estimator input.sk-toggleable__control:checked~label.sk-toggleable__label {background-color: #d4ebff;}#sk-921dee9b-9c16-4731-bc51-d9697d87383f div.sk-label input.sk-toggleable__control:checked~label.sk-toggleable__label {background-color: #d4ebff;}#sk-921dee9b-9c16-4731-bc51-d9697d87383f input.sk-hidden--visually {border: 0;clip: rect(1px 1px 1px 1px);clip: rect(1px, 1px, 1px, 1px);height: 1px;margin: -1px;overflow: hidden;padding: 0;position: absolute;width: 1px;}#sk-921dee9b-9c16-4731-bc51-d9697d87383f div.sk-estimator {font-family: monospace;background-color: #f0f8ff;border: 1px dotted black;border-radius: 0.25em;box-sizing: border-box;margin-bottom: 0.5em;}#sk-921dee9b-9c16-4731-bc51-d9697d87383f div.sk-estimator:hover {background-color: #d4ebff;}#sk-921dee9b-9c16-4731-bc51-d9697d87383f div.sk-parallel-item::after {content: \"\";width: 100%;border-bottom: 1px solid gray;flex-grow: 1;}#sk-921dee9b-9c16-4731-bc51-d9697d87383f div.sk-label:hover label.sk-toggleable__label {background-color: #d4ebff;}#sk-921dee9b-9c16-4731-bc51-d9697d87383f div.sk-serial::before {content: \"\";position: absolute;border-left: 1px solid gray;box-sizing: border-box;top: 2em;bottom: 0;left: 50%;}#sk-921dee9b-9c16-4731-bc51-d9697d87383f div.sk-serial {display: flex;flex-direction: column;align-items: center;background-color: white;padding-right: 0.2em;padding-left: 0.2em;}#sk-921dee9b-9c16-4731-bc51-d9697d87383f div.sk-item {z-index: 1;}#sk-921dee9b-9c16-4731-bc51-d9697d87383f div.sk-parallel {display: flex;align-items: stretch;justify-content: center;background-color: white;}#sk-921dee9b-9c16-4731-bc51-d9697d87383f div.sk-parallel::before {content: \"\";position: absolute;border-left: 1px solid gray;box-sizing: border-box;top: 2em;bottom: 0;left: 50%;}#sk-921dee9b-9c16-4731-bc51-d9697d87383f div.sk-parallel-item {display: flex;flex-direction: column;position: relative;background-color: white;}#sk-921dee9b-9c16-4731-bc51-d9697d87383f div.sk-parallel-item:first-child::after {align-self: flex-end;width: 50%;}#sk-921dee9b-9c16-4731-bc51-d9697d87383f div.sk-parallel-item:last-child::after {align-self: flex-start;width: 50%;}#sk-921dee9b-9c16-4731-bc51-d9697d87383f div.sk-parallel-item:only-child::after {width: 0;}#sk-921dee9b-9c16-4731-bc51-d9697d87383f div.sk-dashed-wrapped {border: 1px dashed gray;margin: 0 0.4em 0.5em 0.4em;box-sizing: border-box;padding-bottom: 0.4em;background-color: white;position: relative;}#sk-921dee9b-9c16-4731-bc51-d9697d87383f div.sk-label label {font-family: monospace;font-weight: bold;background-color: white;display: inline-block;line-height: 1.2em;}#sk-921dee9b-9c16-4731-bc51-d9697d87383f div.sk-label-container {position: relative;z-index: 2;text-align: center;}#sk-921dee9b-9c16-4731-bc51-d9697d87383f div.sk-container {/* jupyter's `normalize.less` sets `[hidden] { display: none; }` but bootstrap.min.css set `[hidden] { display: none !important; }` so we also need the `!important` here to be able to override the default hidden behavior on the sphinx rendered scikit-learn.org. See: https://github.com/scikit-learn/scikit-learn/issues/21755 */display: inline-block !important;position: relative;}#sk-921dee9b-9c16-4731-bc51-d9697d87383f div.sk-text-repr-fallback {display: none;}</style><div id=\"sk-921dee9b-9c16-4731-bc51-d9697d87383f\" class=\"sk-top-container\"><div class=\"sk-text-repr-fallback\"><pre>Pipeline(steps=[(&#x27;preprocessing&#x27;,\n",
       "                 ColumnTransformer(transformers=[(&#x27;num_pipeline&#x27;,\n",
       "                                                  Pipeline(steps=[(&#x27;imputer&#x27;,\n",
       "                                                                   SimpleImputer(strategy=&#x27;median&#x27;)),\n",
       "                                                                  (&#x27;scaler&#x27;,\n",
       "                                                                   RobustScaler())]),\n",
       "                                                  [&#x27;age&#x27;, &#x27;fare&#x27;, &#x27;sibsp&#x27;,\n",
       "                                                   &#x27;parch&#x27;]),\n",
       "                                                 (&#x27;cat_pipeline&#x27;,\n",
       "                                                  Pipeline(steps=[(&#x27;imputer&#x27;,\n",
       "                                                                   SimpleImputer(strategy=&#x27;most_frequent&#x27;)),\n",
       "                                                                  (&#x27;encoder&#x27;,\n",
       "                                                                   OneHotEncoder())]),\n",
       "                                                  [&#x27;pclass&#x27;, &#x27;sex&#x27;, &#x27;embarked&#x27;,\n",
       "                                                   &#x27;class&#x27;, &#x27;embark_town&#x27;,\n",
       "                                                   &#x27;alone&#x27;])])),\n",
       "                (&#x27;classifier&#x27;, LogisticRegression())])</pre><b>Please rerun this cell to show the HTML repr or trust the notebook.</b></div><div class=\"sk-container\" hidden><div class=\"sk-item sk-dashed-wrapped\"><div class=\"sk-label-container\"><div class=\"sk-label sk-toggleable\"><input class=\"sk-toggleable__control sk-hidden--visually\" id=\"58c5520c-8fca-4e78-af22-9ec40f18e7e6\" type=\"checkbox\" ><label for=\"58c5520c-8fca-4e78-af22-9ec40f18e7e6\" class=\"sk-toggleable__label sk-toggleable__label-arrow\">Pipeline</label><div class=\"sk-toggleable__content\"><pre>Pipeline(steps=[(&#x27;preprocessing&#x27;,\n",
       "                 ColumnTransformer(transformers=[(&#x27;num_pipeline&#x27;,\n",
       "                                                  Pipeline(steps=[(&#x27;imputer&#x27;,\n",
       "                                                                   SimpleImputer(strategy=&#x27;median&#x27;)),\n",
       "                                                                  (&#x27;scaler&#x27;,\n",
       "                                                                   RobustScaler())]),\n",
       "                                                  [&#x27;age&#x27;, &#x27;fare&#x27;, &#x27;sibsp&#x27;,\n",
       "                                                   &#x27;parch&#x27;]),\n",
       "                                                 (&#x27;cat_pipeline&#x27;,\n",
       "                                                  Pipeline(steps=[(&#x27;imputer&#x27;,\n",
       "                                                                   SimpleImputer(strategy=&#x27;most_frequent&#x27;)),\n",
       "                                                                  (&#x27;encoder&#x27;,\n",
       "                                                                   OneHotEncoder())]),\n",
       "                                                  [&#x27;pclass&#x27;, &#x27;sex&#x27;, &#x27;embarked&#x27;,\n",
       "                                                   &#x27;class&#x27;, &#x27;embark_town&#x27;,\n",
       "                                                   &#x27;alone&#x27;])])),\n",
       "                (&#x27;classifier&#x27;, LogisticRegression())])</pre></div></div></div><div class=\"sk-serial\"><div class=\"sk-item sk-dashed-wrapped\"><div class=\"sk-label-container\"><div class=\"sk-label sk-toggleable\"><input class=\"sk-toggleable__control sk-hidden--visually\" id=\"83469a40-fc8d-4ac5-ac55-3b858cea335f\" type=\"checkbox\" ><label for=\"83469a40-fc8d-4ac5-ac55-3b858cea335f\" class=\"sk-toggleable__label sk-toggleable__label-arrow\">preprocessing: ColumnTransformer</label><div class=\"sk-toggleable__content\"><pre>ColumnTransformer(transformers=[(&#x27;num_pipeline&#x27;,\n",
       "                                 Pipeline(steps=[(&#x27;imputer&#x27;,\n",
       "                                                  SimpleImputer(strategy=&#x27;median&#x27;)),\n",
       "                                                 (&#x27;scaler&#x27;, RobustScaler())]),\n",
       "                                 [&#x27;age&#x27;, &#x27;fare&#x27;, &#x27;sibsp&#x27;, &#x27;parch&#x27;]),\n",
       "                                (&#x27;cat_pipeline&#x27;,\n",
       "                                 Pipeline(steps=[(&#x27;imputer&#x27;,\n",
       "                                                  SimpleImputer(strategy=&#x27;most_frequent&#x27;)),\n",
       "                                                 (&#x27;encoder&#x27;, OneHotEncoder())]),\n",
       "                                 [&#x27;pclass&#x27;, &#x27;sex&#x27;, &#x27;embarked&#x27;, &#x27;class&#x27;,\n",
       "                                  &#x27;embark_town&#x27;, &#x27;alone&#x27;])])</pre></div></div></div><div class=\"sk-parallel\"><div class=\"sk-parallel-item\"><div class=\"sk-item\"><div class=\"sk-label-container\"><div class=\"sk-label sk-toggleable\"><input class=\"sk-toggleable__control sk-hidden--visually\" id=\"9640a88b-89fd-4c63-adec-398820b5d68c\" type=\"checkbox\" ><label for=\"9640a88b-89fd-4c63-adec-398820b5d68c\" class=\"sk-toggleable__label sk-toggleable__label-arrow\">num_pipeline</label><div class=\"sk-toggleable__content\"><pre>[&#x27;age&#x27;, &#x27;fare&#x27;, &#x27;sibsp&#x27;, &#x27;parch&#x27;]</pre></div></div></div><div class=\"sk-serial\"><div class=\"sk-item\"><div class=\"sk-serial\"><div class=\"sk-item\"><div class=\"sk-estimator sk-toggleable\"><input class=\"sk-toggleable__control sk-hidden--visually\" id=\"77b0f116-6306-4bcb-aefd-a189c94cc12b\" type=\"checkbox\" ><label for=\"77b0f116-6306-4bcb-aefd-a189c94cc12b\" class=\"sk-toggleable__label sk-toggleable__label-arrow\">SimpleImputer</label><div class=\"sk-toggleable__content\"><pre>SimpleImputer(strategy=&#x27;median&#x27;)</pre></div></div></div><div class=\"sk-item\"><div class=\"sk-estimator sk-toggleable\"><input class=\"sk-toggleable__control sk-hidden--visually\" id=\"fb2c4661-1fbf-4e46-8826-4e305f3bfe95\" type=\"checkbox\" ><label for=\"fb2c4661-1fbf-4e46-8826-4e305f3bfe95\" class=\"sk-toggleable__label sk-toggleable__label-arrow\">RobustScaler</label><div class=\"sk-toggleable__content\"><pre>RobustScaler()</pre></div></div></div></div></div></div></div></div><div class=\"sk-parallel-item\"><div class=\"sk-item\"><div class=\"sk-label-container\"><div class=\"sk-label sk-toggleable\"><input class=\"sk-toggleable__control sk-hidden--visually\" id=\"fbd6d0af-cbcf-4111-9ee9-f8c5151d07db\" type=\"checkbox\" ><label for=\"fbd6d0af-cbcf-4111-9ee9-f8c5151d07db\" class=\"sk-toggleable__label sk-toggleable__label-arrow\">cat_pipeline</label><div class=\"sk-toggleable__content\"><pre>[&#x27;pclass&#x27;, &#x27;sex&#x27;, &#x27;embarked&#x27;, &#x27;class&#x27;, &#x27;embark_town&#x27;, &#x27;alone&#x27;]</pre></div></div></div><div class=\"sk-serial\"><div class=\"sk-item\"><div class=\"sk-serial\"><div class=\"sk-item\"><div class=\"sk-estimator sk-toggleable\"><input class=\"sk-toggleable__control sk-hidden--visually\" id=\"4453d498-141d-4325-a374-82687ab60384\" type=\"checkbox\" ><label for=\"4453d498-141d-4325-a374-82687ab60384\" class=\"sk-toggleable__label sk-toggleable__label-arrow\">SimpleImputer</label><div class=\"sk-toggleable__content\"><pre>SimpleImputer(strategy=&#x27;most_frequent&#x27;)</pre></div></div></div><div class=\"sk-item\"><div class=\"sk-estimator sk-toggleable\"><input class=\"sk-toggleable__control sk-hidden--visually\" id=\"638c3f04-afef-4085-8259-c8f45d832174\" type=\"checkbox\" ><label for=\"638c3f04-afef-4085-8259-c8f45d832174\" class=\"sk-toggleable__label sk-toggleable__label-arrow\">OneHotEncoder</label><div class=\"sk-toggleable__content\"><pre>OneHotEncoder()</pre></div></div></div></div></div></div></div></div></div></div><div class=\"sk-item\"><div class=\"sk-estimator sk-toggleable\"><input class=\"sk-toggleable__control sk-hidden--visually\" id=\"87197d10-df73-4179-890e-7a89fa1770e4\" type=\"checkbox\" ><label for=\"87197d10-df73-4179-890e-7a89fa1770e4\" class=\"sk-toggleable__label sk-toggleable__label-arrow\">LogisticRegression</label><div class=\"sk-toggleable__content\"><pre>LogisticRegression()</pre></div></div></div></div></div></div></div>"
      ],
      "text/plain": [
       "Pipeline(steps=[('preprocessing',\n",
       "                 ColumnTransformer(transformers=[('num_pipeline',\n",
       "                                                  Pipeline(steps=[('imputer',\n",
       "                                                                   SimpleImputer(strategy='median')),\n",
       "                                                                  ('scaler',\n",
       "                                                                   RobustScaler())]),\n",
       "                                                  ['age', 'fare', 'sibsp',\n",
       "                                                   'parch']),\n",
       "                                                 ('cat_pipeline',\n",
       "                                                  Pipeline(steps=[('imputer',\n",
       "                                                                   SimpleImputer(strategy='most_frequent')),\n",
       "                                                                  ('encoder',\n",
       "                                                                   OneHotEncoder())]),\n",
       "                                                  ['pclass', 'sex', 'embarked',\n",
       "                                                   'class', 'embark_town',\n",
       "                                                   'alone'])])),\n",
       "                ('classifier', LogisticRegression())])"
      ]
     },
     "execution_count": 30,
     "metadata": {},
     "output_type": "execute_result"
    }
   ],
   "source": [
    "pipeline = Pipeline(\n",
    " [ \n",
    "     ('preprocessing', preprocessing),\n",
    "     ('classifier', LogisticRegression())\n",
    " ]\n",
    ")\n",
    "pipeline"
   ]
  },
  {
   "cell_type": "code",
   "execution_count": 44,
   "metadata": {},
   "outputs": [
    {
     "data": {
      "text/plain": [
       "array([0, 0, 1, 0, 0, 1, 0, 0, 0, 0, 1, 0, 1, 0, 0, 0, 0, 0, 1, 1, 1, 0,\n",
       "       1, 1, 0, 1, 0, 1, 0, 0, 1, 0, 0, 0, 0, 0, 1, 1, 0, 0, 0, 0, 0, 1,\n",
       "       1, 1, 1, 0, 0, 1, 1, 1, 1, 1, 0, 0, 0, 1, 0, 1, 1, 0, 0, 0, 0, 1,\n",
       "       0, 0, 0, 0, 0, 0, 1, 0, 0, 1, 0, 0, 1, 1, 0, 1, 0, 0, 0, 0, 0, 1,\n",
       "       1, 1, 1, 0, 0, 1, 0, 0, 0, 0, 0, 0, 1, 0, 0, 1, 0, 0, 0, 0, 1, 0,\n",
       "       1, 1, 0, 0, 0, 0, 0, 0, 1, 0, 0, 0, 0, 0, 1, 1, 0, 1, 0, 1, 1, 0,\n",
       "       1, 1, 0, 0, 0, 0, 0, 1, 1, 0, 0, 1, 1, 0, 1, 1, 1, 0, 1, 1, 0, 0,\n",
       "       1, 0, 0, 1, 0, 1, 1, 0, 1, 0, 1, 1, 1, 1, 0, 1, 0, 1, 0, 0, 0, 0,\n",
       "       1, 0, 0, 0, 0, 1, 0, 0, 0, 0, 0, 0, 0, 0, 0, 0, 0, 1, 0, 0, 1, 0,\n",
       "       0, 0, 0, 0, 0, 1, 0, 1, 1, 0, 1, 0, 0, 1, 0, 1, 1, 1, 0, 0, 0, 0,\n",
       "       0, 0, 0, 0, 0, 1, 0, 0, 0, 0, 1, 0, 0, 0, 0, 1, 0, 0, 1, 1, 0, 0,\n",
       "       1, 0, 0, 0, 1, 1, 0, 1, 1, 1, 0, 0, 1, 0, 1, 0, 1, 1, 0, 1, 1, 0,\n",
       "       0, 0, 1, 0, 0, 1, 0, 0, 1, 1, 0, 1, 0, 0, 0, 0, 0, 0, 0, 1, 0, 1,\n",
       "       1, 0, 1, 0, 1, 0, 1, 0, 0, 0, 0, 1, 1, 1, 0, 0, 0, 1, 1, 0, 0, 0,\n",
       "       0, 1, 0, 1, 1, 0, 0, 1, 0, 0, 1, 0, 0, 0, 0, 0, 0, 1, 1, 1, 1, 0,\n",
       "       0, 0, 1, 0, 1, 0, 0, 0, 1, 0, 0, 0, 1, 0, 0, 0, 0, 0, 0, 0, 0, 1,\n",
       "       0, 0, 0, 0, 1, 0, 0, 0, 1, 0, 0, 1, 1, 0, 1, 1, 0, 0, 0, 0, 0, 0,\n",
       "       0, 0, 0, 1, 1, 0, 0, 1, 0, 0, 0, 1, 1, 1, 0, 0, 1, 0, 0, 0, 0, 1,\n",
       "       0, 1, 0, 0, 1, 0, 0, 0, 1, 1, 1, 0, 1, 0, 0, 1, 1, 0, 0, 0, 0, 0,\n",
       "       0, 0, 0, 1, 0, 1, 0, 0, 1, 0, 0, 1, 0, 1, 1, 0, 0, 0, 0, 0, 0, 0,\n",
       "       1, 1, 0, 1, 0, 0, 1, 1, 1, 0, 0, 1, 1, 1, 0, 1, 0, 1, 1, 0, 0, 1,\n",
       "       1, 1, 0, 1, 0, 1, 0, 0, 1, 1, 0, 0, 1, 0, 0, 0, 0, 0, 1, 0, 0, 0,\n",
       "       0, 1, 1, 0, 0, 1, 1, 0, 0, 1, 0, 0, 1, 1, 0, 1, 1, 0, 0, 1, 0, 0,\n",
       "       0, 1, 0, 0, 0, 0, 0, 0, 1, 0, 1, 1, 0, 0, 0, 0, 1, 0, 0, 0, 0, 1,\n",
       "       1, 0, 1, 0, 0, 0, 0, 1, 1, 1, 0, 0, 0, 0, 0, 0, 0, 0, 0, 1, 0, 1,\n",
       "       0, 1, 0, 0, 0, 0, 0, 0, 0, 0, 0, 1, 0, 0, 0, 0, 1, 1, 0, 0, 0, 0,\n",
       "       1, 1, 0, 1, 1, 0, 0, 1, 0, 0, 0, 0, 0, 0, 0, 1, 0, 1, 0, 0, 0, 1,\n",
       "       1, 0, 0, 0, 0, 0, 0, 0, 0, 1, 1, 1, 0, 1, 1, 0, 0, 0, 0, 0, 1, 0,\n",
       "       0, 1, 1, 0, 1, 1, 1])"
      ]
     },
     "execution_count": 44,
     "metadata": {},
     "output_type": "execute_result"
    }
   ],
   "source": [
    "pipeline.fit(X_train, y_train)\n",
    "pipeline.predict(X_train)"
   ]
  },
  {
   "cell_type": "markdown",
   "metadata": {},
   "source": [
    "<details>\n",
    "    <summary>👩🏻‍🏫 <i>Pipeline</i> vs. <i>make_pipeline</i></summary>\n",
    "\n",
    "* When you create a Pipeline with `Pipeline()`, you have to:\n",
    "    - specify all the ***sequential steps of the pipeline*** in a list\n",
    "    - each step is a tuple with:\n",
    "        - \"name_of_the_step\"\n",
    "        - official Scikit-Learn name of the step\n",
    "    \n",
    "```python\n",
    "Pipeline([\n",
    "    ('imputer', SimpleImputer(strategy='median')),\n",
    "    ('scaler', StandardScaler())\n",
    "])\n",
    "```\n",
    "  \n",
    "* When you create a Pipeline with `make_pipeline()`,\n",
    "    - you don't have give a name to each step\n",
    "    - you can simply chain all the steps together using their official Scikit-Learn name\n",
    "    - the names of the steps are automatically induced by `make_pipeline`\n",
    "    \n",
    "```python\n",
    "make_pipeline(\n",
    "    SimpleImputer(strategy='median'),\n",
    "    StandardScaler()\n",
    ")\n",
    "```\n",
    "    \n",
    "</details>"
   ]
  },
  {
   "cell_type": "markdown",
   "metadata": {},
   "source": [
    "<details>\n",
    "    <summary>👩🏻‍🏫 <i>ColumnTransformer</i> vs. <i>make_column_transformer</i></summary>\n",
    "\n",
    "* When you create a ColumnTransformer with `ColumnTransformer()`, you have to:\n",
    "    - specify all the ***parallel steps of the columns' transformer*** in a list\n",
    "    - each step is a tuple with:\n",
    "        - \"name_of_the_transformer\"\n",
    "        - the transformer\n",
    "        - the columns which will be impacted by the transformer\n",
    "    \n",
    "```python\n",
    "ColumnTransformer([\n",
    "    ('num_transformer', num_transformer, num_features),\n",
    "    ('cat_transformer', cat_transformer, cat_features)\n",
    "])\n",
    "```\n",
    "  \n",
    "* When you create a ColumnTransformer with `make_column_transformer()`,\n",
    "    - you don't have give a name to each parallel step\n",
    "    - each step is a tuple with:\n",
    "        - the transformer\n",
    "        - the columns which will be impacted by the transformer\n",
    "    \n",
    "```python\n",
    "make_column_transformer(\n",
    "    (num_transformer, num_features),\n",
    "    (cat_transformer, cat_features)\n",
    ")\n",
    "```\n",
    "    \n",
    "</details>"
   ]
  },
  {
   "cell_type": "markdown",
   "metadata": {},
   "source": [
    "❓ Chain this preprocessing pipeline with a classifier and optimize it ❓"
   ]
  },
  {
   "cell_type": "code",
   "execution_count": 47,
   "metadata": {
    "tags": [
     "challengify"
    ]
   },
   "outputs": [
    {
     "name": "stdout",
     "output_type": "stream",
     "text": [
      "train sccuracy: 0.8089887640449438\n",
      "test sccuracy: 0.7947761194029851\n"
     ]
    }
   ],
   "source": [
    "# YOUR CODE HERE\n",
    "\n",
    "# train set\n",
    "print(f\"train sccuracy: {pipeline.score(X_train, y_train)}\")\n",
    "\n",
    "# test set\n",
    "print(f\"test sccuracy: {pipeline.score(X_test, y_test)}\")\n",
    "\n"
   ]
  },
  {
   "cell_type": "markdown",
   "metadata": {},
   "source": [
    "❓ What are the best params and the best score ❓"
   ]
  },
  {
   "cell_type": "code",
   "execution_count": 50,
   "metadata": {},
   "outputs": [
    {
     "data": {
      "text/plain": [
       "0.8013746783001696"
      ]
     },
     "execution_count": 50,
     "metadata": {},
     "output_type": "execute_result"
    }
   ],
   "source": [
    "cross_val_score(pipeline, X, y, ).mean()"
   ]
  },
  {
   "cell_type": "code",
   "execution_count": null,
   "metadata": {
    "tags": [
     "challengify"
    ]
   },
   "outputs": [],
   "source": [
    "# YOUR CODE HERE"
   ]
  },
  {
   "cell_type": "markdown",
   "metadata": {},
   "source": [
    "## (3) How could we design a Custom Encoder to keep track of the columns' names?"
   ]
  },
  {
   "cell_type": "code",
   "execution_count": 51,
   "metadata": {},
   "outputs": [
    {
     "data": {
      "text/plain": [
       "array([[0., 1.],\n",
       "       [1., 0.],\n",
       "       [1., 0.],\n",
       "       ...,\n",
       "       [1., 0.],\n",
       "       [1., 0.],\n",
       "       [1., 0.]])"
      ]
     },
     "execution_count": 51,
     "metadata": {},
     "output_type": "execute_result"
    }
   ],
   "source": [
    "# By default, OneHotEncoder works with Numpy and loses track of columns' names...\n",
    "ohe = OneHotEncoder(sparse=False)\n",
    "ohe.fit_transform(X_train[['sex']])"
   ]
  },
  {
   "cell_type": "code",
   "execution_count": 52,
   "metadata": {},
   "outputs": [
    {
     "data": {
      "text/plain": [
       "array(['sex_female', 'sex_male'], dtype=object)"
      ]
     },
     "execution_count": 52,
     "metadata": {},
     "output_type": "execute_result"
    }
   ],
   "source": [
    "# ... however, we can access the one-hot-encoded names as follows\n",
    "ohe.get_feature_names_out()"
   ]
  },
  {
   "cell_type": "markdown",
   "metadata": {},
   "source": [
    "❓ Try to create your own OneHotEncoder so that it preserves the columns names ❓"
   ]
  },
  {
   "cell_type": "code",
   "execution_count": 54,
   "metadata": {},
   "outputs": [
    {
     "data": {
      "text/html": [
       "<div>\n",
       "<style scoped>\n",
       "    .dataframe tbody tr th:only-of-type {\n",
       "        vertical-align: middle;\n",
       "    }\n",
       "\n",
       "    .dataframe tbody tr th {\n",
       "        vertical-align: top;\n",
       "    }\n",
       "\n",
       "    .dataframe thead th {\n",
       "        text-align: right;\n",
       "    }\n",
       "</style>\n",
       "<table border=\"1\" class=\"dataframe\">\n",
       "  <thead>\n",
       "    <tr style=\"text-align: right;\">\n",
       "      <th></th>\n",
       "      <th>sex_female</th>\n",
       "      <th>sex_male</th>\n",
       "    </tr>\n",
       "  </thead>\n",
       "  <tbody>\n",
       "    <tr>\n",
       "      <th>0</th>\n",
       "      <td>0.0</td>\n",
       "      <td>1.0</td>\n",
       "    </tr>\n",
       "    <tr>\n",
       "      <th>1</th>\n",
       "      <td>1.0</td>\n",
       "      <td>0.0</td>\n",
       "    </tr>\n",
       "    <tr>\n",
       "      <th>2</th>\n",
       "      <td>1.0</td>\n",
       "      <td>0.0</td>\n",
       "    </tr>\n",
       "    <tr>\n",
       "      <th>3</th>\n",
       "      <td>0.0</td>\n",
       "      <td>1.0</td>\n",
       "    </tr>\n",
       "    <tr>\n",
       "      <th>4</th>\n",
       "      <td>0.0</td>\n",
       "      <td>1.0</td>\n",
       "    </tr>\n",
       "    <tr>\n",
       "      <th>...</th>\n",
       "      <td>...</td>\n",
       "      <td>...</td>\n",
       "    </tr>\n",
       "    <tr>\n",
       "      <th>618</th>\n",
       "      <td>1.0</td>\n",
       "      <td>0.0</td>\n",
       "    </tr>\n",
       "    <tr>\n",
       "      <th>619</th>\n",
       "      <td>0.0</td>\n",
       "      <td>1.0</td>\n",
       "    </tr>\n",
       "    <tr>\n",
       "      <th>620</th>\n",
       "      <td>1.0</td>\n",
       "      <td>0.0</td>\n",
       "    </tr>\n",
       "    <tr>\n",
       "      <th>621</th>\n",
       "      <td>1.0</td>\n",
       "      <td>0.0</td>\n",
       "    </tr>\n",
       "    <tr>\n",
       "      <th>622</th>\n",
       "      <td>1.0</td>\n",
       "      <td>0.0</td>\n",
       "    </tr>\n",
       "  </tbody>\n",
       "</table>\n",
       "<p>623 rows × 2 columns</p>\n",
       "</div>"
      ],
      "text/plain": [
       "     sex_female  sex_male\n",
       "0           0.0       1.0\n",
       "1           1.0       0.0\n",
       "2           1.0       0.0\n",
       "3           0.0       1.0\n",
       "4           0.0       1.0\n",
       "..          ...       ...\n",
       "618         1.0       0.0\n",
       "619         0.0       1.0\n",
       "620         1.0       0.0\n",
       "621         1.0       0.0\n",
       "622         1.0       0.0\n",
       "\n",
       "[623 rows x 2 columns]"
      ]
     },
     "execution_count": 54,
     "metadata": {},
     "output_type": "execute_result"
    }
   ],
   "source": [
    "df = pd.DataFrame(ohe.fit_transform(X_train[['sex']]), \n",
    "                  columns=ohe.get_feature_names_out())\n",
    "df"
   ]
  },
  {
   "cell_type": "code",
   "execution_count": null,
   "metadata": {},
   "outputs": [],
   "source": []
  },
  {
   "cell_type": "code",
   "execution_count": 57,
   "metadata": {
    "tags": [
     "challengify"
    ]
   },
   "outputs": [],
   "source": [
    "# YOUR CODE HERE\n",
    "class CustomOneHotEncoder(OneHotEncoder):\n",
    "    \n",
    "    def transform(self, X):\n",
    "        df = pd.DataFrame(  super().transform(X), \n",
    "                           columns=super().get_feature_names_out())\n",
    "        return df\n"
   ]
  },
  {
   "cell_type": "code",
   "execution_count": 58,
   "metadata": {},
   "outputs": [
    {
     "data": {
      "text/html": [
       "<div>\n",
       "<style scoped>\n",
       "    .dataframe tbody tr th:only-of-type {\n",
       "        vertical-align: middle;\n",
       "    }\n",
       "\n",
       "    .dataframe tbody tr th {\n",
       "        vertical-align: top;\n",
       "    }\n",
       "\n",
       "    .dataframe thead th {\n",
       "        text-align: right;\n",
       "    }\n",
       "</style>\n",
       "<table border=\"1\" class=\"dataframe\">\n",
       "  <thead>\n",
       "    <tr style=\"text-align: right;\">\n",
       "      <th></th>\n",
       "      <th>sex_female</th>\n",
       "      <th>sex_male</th>\n",
       "    </tr>\n",
       "  </thead>\n",
       "  <tbody>\n",
       "    <tr>\n",
       "      <th>0</th>\n",
       "      <td>0.0</td>\n",
       "      <td>1.0</td>\n",
       "    </tr>\n",
       "    <tr>\n",
       "      <th>1</th>\n",
       "      <td>1.0</td>\n",
       "      <td>0.0</td>\n",
       "    </tr>\n",
       "    <tr>\n",
       "      <th>2</th>\n",
       "      <td>1.0</td>\n",
       "      <td>0.0</td>\n",
       "    </tr>\n",
       "    <tr>\n",
       "      <th>3</th>\n",
       "      <td>0.0</td>\n",
       "      <td>1.0</td>\n",
       "    </tr>\n",
       "    <tr>\n",
       "      <th>4</th>\n",
       "      <td>0.0</td>\n",
       "      <td>1.0</td>\n",
       "    </tr>\n",
       "    <tr>\n",
       "      <th>...</th>\n",
       "      <td>...</td>\n",
       "      <td>...</td>\n",
       "    </tr>\n",
       "    <tr>\n",
       "      <th>618</th>\n",
       "      <td>1.0</td>\n",
       "      <td>0.0</td>\n",
       "    </tr>\n",
       "    <tr>\n",
       "      <th>619</th>\n",
       "      <td>0.0</td>\n",
       "      <td>1.0</td>\n",
       "    </tr>\n",
       "    <tr>\n",
       "      <th>620</th>\n",
       "      <td>1.0</td>\n",
       "      <td>0.0</td>\n",
       "    </tr>\n",
       "    <tr>\n",
       "      <th>621</th>\n",
       "      <td>1.0</td>\n",
       "      <td>0.0</td>\n",
       "    </tr>\n",
       "    <tr>\n",
       "      <th>622</th>\n",
       "      <td>1.0</td>\n",
       "      <td>0.0</td>\n",
       "    </tr>\n",
       "  </tbody>\n",
       "</table>\n",
       "<p>623 rows × 2 columns</p>\n",
       "</div>"
      ],
      "text/plain": [
       "     sex_female  sex_male\n",
       "0           0.0       1.0\n",
       "1           1.0       0.0\n",
       "2           1.0       0.0\n",
       "3           0.0       1.0\n",
       "4           0.0       1.0\n",
       "..          ...       ...\n",
       "618         1.0       0.0\n",
       "619         0.0       1.0\n",
       "620         1.0       0.0\n",
       "621         1.0       0.0\n",
       "622         1.0       0.0\n",
       "\n",
       "[623 rows x 2 columns]"
      ]
     },
     "execution_count": 58,
     "metadata": {},
     "output_type": "execute_result"
    }
   ],
   "source": [
    "ohe = CustomOneHotEncoder(sparse=False)\n",
    "ohe.fit_transform(X_train[['sex']])"
   ]
  },
  {
   "cell_type": "code",
   "execution_count": 62,
   "metadata": {},
   "outputs": [
    {
     "data": {
      "text/html": [
       "<style>#sk-bd68a920-d16c-4d46-b0c3-be16b9f3d1bb {color: black;background-color: white;}#sk-bd68a920-d16c-4d46-b0c3-be16b9f3d1bb pre{padding: 0;}#sk-bd68a920-d16c-4d46-b0c3-be16b9f3d1bb div.sk-toggleable {background-color: white;}#sk-bd68a920-d16c-4d46-b0c3-be16b9f3d1bb label.sk-toggleable__label {cursor: pointer;display: block;width: 100%;margin-bottom: 0;padding: 0.3em;box-sizing: border-box;text-align: center;}#sk-bd68a920-d16c-4d46-b0c3-be16b9f3d1bb label.sk-toggleable__label-arrow:before {content: \"▸\";float: left;margin-right: 0.25em;color: #696969;}#sk-bd68a920-d16c-4d46-b0c3-be16b9f3d1bb label.sk-toggleable__label-arrow:hover:before {color: black;}#sk-bd68a920-d16c-4d46-b0c3-be16b9f3d1bb div.sk-estimator:hover label.sk-toggleable__label-arrow:before {color: black;}#sk-bd68a920-d16c-4d46-b0c3-be16b9f3d1bb div.sk-toggleable__content {max-height: 0;max-width: 0;overflow: hidden;text-align: left;background-color: #f0f8ff;}#sk-bd68a920-d16c-4d46-b0c3-be16b9f3d1bb div.sk-toggleable__content pre {margin: 0.2em;color: black;border-radius: 0.25em;background-color: #f0f8ff;}#sk-bd68a920-d16c-4d46-b0c3-be16b9f3d1bb input.sk-toggleable__control:checked~div.sk-toggleable__content {max-height: 200px;max-width: 100%;overflow: auto;}#sk-bd68a920-d16c-4d46-b0c3-be16b9f3d1bb input.sk-toggleable__control:checked~label.sk-toggleable__label-arrow:before {content: \"▾\";}#sk-bd68a920-d16c-4d46-b0c3-be16b9f3d1bb div.sk-estimator input.sk-toggleable__control:checked~label.sk-toggleable__label {background-color: #d4ebff;}#sk-bd68a920-d16c-4d46-b0c3-be16b9f3d1bb div.sk-label input.sk-toggleable__control:checked~label.sk-toggleable__label {background-color: #d4ebff;}#sk-bd68a920-d16c-4d46-b0c3-be16b9f3d1bb input.sk-hidden--visually {border: 0;clip: rect(1px 1px 1px 1px);clip: rect(1px, 1px, 1px, 1px);height: 1px;margin: -1px;overflow: hidden;padding: 0;position: absolute;width: 1px;}#sk-bd68a920-d16c-4d46-b0c3-be16b9f3d1bb div.sk-estimator {font-family: monospace;background-color: #f0f8ff;border: 1px dotted black;border-radius: 0.25em;box-sizing: border-box;margin-bottom: 0.5em;}#sk-bd68a920-d16c-4d46-b0c3-be16b9f3d1bb div.sk-estimator:hover {background-color: #d4ebff;}#sk-bd68a920-d16c-4d46-b0c3-be16b9f3d1bb div.sk-parallel-item::after {content: \"\";width: 100%;border-bottom: 1px solid gray;flex-grow: 1;}#sk-bd68a920-d16c-4d46-b0c3-be16b9f3d1bb div.sk-label:hover label.sk-toggleable__label {background-color: #d4ebff;}#sk-bd68a920-d16c-4d46-b0c3-be16b9f3d1bb div.sk-serial::before {content: \"\";position: absolute;border-left: 1px solid gray;box-sizing: border-box;top: 2em;bottom: 0;left: 50%;}#sk-bd68a920-d16c-4d46-b0c3-be16b9f3d1bb div.sk-serial {display: flex;flex-direction: column;align-items: center;background-color: white;padding-right: 0.2em;padding-left: 0.2em;}#sk-bd68a920-d16c-4d46-b0c3-be16b9f3d1bb div.sk-item {z-index: 1;}#sk-bd68a920-d16c-4d46-b0c3-be16b9f3d1bb div.sk-parallel {display: flex;align-items: stretch;justify-content: center;background-color: white;}#sk-bd68a920-d16c-4d46-b0c3-be16b9f3d1bb div.sk-parallel::before {content: \"\";position: absolute;border-left: 1px solid gray;box-sizing: border-box;top: 2em;bottom: 0;left: 50%;}#sk-bd68a920-d16c-4d46-b0c3-be16b9f3d1bb div.sk-parallel-item {display: flex;flex-direction: column;position: relative;background-color: white;}#sk-bd68a920-d16c-4d46-b0c3-be16b9f3d1bb div.sk-parallel-item:first-child::after {align-self: flex-end;width: 50%;}#sk-bd68a920-d16c-4d46-b0c3-be16b9f3d1bb div.sk-parallel-item:last-child::after {align-self: flex-start;width: 50%;}#sk-bd68a920-d16c-4d46-b0c3-be16b9f3d1bb div.sk-parallel-item:only-child::after {width: 0;}#sk-bd68a920-d16c-4d46-b0c3-be16b9f3d1bb div.sk-dashed-wrapped {border: 1px dashed gray;margin: 0 0.4em 0.5em 0.4em;box-sizing: border-box;padding-bottom: 0.4em;background-color: white;position: relative;}#sk-bd68a920-d16c-4d46-b0c3-be16b9f3d1bb div.sk-label label {font-family: monospace;font-weight: bold;background-color: white;display: inline-block;line-height: 1.2em;}#sk-bd68a920-d16c-4d46-b0c3-be16b9f3d1bb div.sk-label-container {position: relative;z-index: 2;text-align: center;}#sk-bd68a920-d16c-4d46-b0c3-be16b9f3d1bb div.sk-container {/* jupyter's `normalize.less` sets `[hidden] { display: none; }` but bootstrap.min.css set `[hidden] { display: none !important; }` so we also need the `!important` here to be able to override the default hidden behavior on the sphinx rendered scikit-learn.org. See: https://github.com/scikit-learn/scikit-learn/issues/21755 */display: inline-block !important;position: relative;}#sk-bd68a920-d16c-4d46-b0c3-be16b9f3d1bb div.sk-text-repr-fallback {display: none;}</style><div id=\"sk-bd68a920-d16c-4d46-b0c3-be16b9f3d1bb\" class=\"sk-top-container\"><div class=\"sk-text-repr-fallback\"><pre>Pipeline(steps=[(&#x27;imputer&#x27;, SimpleImputer(strategy=&#x27;most_frequent&#x27;)),\n",
       "                (&#x27;encoder&#x27;, CustomOneHotEncoder(sparse=False))])</pre><b>Please rerun this cell to show the HTML repr or trust the notebook.</b></div><div class=\"sk-container\" hidden><div class=\"sk-item sk-dashed-wrapped\"><div class=\"sk-label-container\"><div class=\"sk-label sk-toggleable\"><input class=\"sk-toggleable__control sk-hidden--visually\" id=\"bafdadf4-210d-4915-ae6a-7d5f7ef296d9\" type=\"checkbox\" ><label for=\"bafdadf4-210d-4915-ae6a-7d5f7ef296d9\" class=\"sk-toggleable__label sk-toggleable__label-arrow\">Pipeline</label><div class=\"sk-toggleable__content\"><pre>Pipeline(steps=[(&#x27;imputer&#x27;, SimpleImputer(strategy=&#x27;most_frequent&#x27;)),\n",
       "                (&#x27;encoder&#x27;, CustomOneHotEncoder(sparse=False))])</pre></div></div></div><div class=\"sk-serial\"><div class=\"sk-item\"><div class=\"sk-estimator sk-toggleable\"><input class=\"sk-toggleable__control sk-hidden--visually\" id=\"dce34445-b0f5-4555-8981-6cc8f676c78d\" type=\"checkbox\" ><label for=\"dce34445-b0f5-4555-8981-6cc8f676c78d\" class=\"sk-toggleable__label sk-toggleable__label-arrow\">SimpleImputer</label><div class=\"sk-toggleable__content\"><pre>SimpleImputer(strategy=&#x27;most_frequent&#x27;)</pre></div></div></div><div class=\"sk-item\"><div class=\"sk-estimator sk-toggleable\"><input class=\"sk-toggleable__control sk-hidden--visually\" id=\"67d5ab68-3c29-4d1a-9303-6e95f5ff56e7\" type=\"checkbox\" ><label for=\"67d5ab68-3c29-4d1a-9303-6e95f5ff56e7\" class=\"sk-toggleable__label sk-toggleable__label-arrow\">CustomOneHotEncoder</label><div class=\"sk-toggleable__content\"><pre>CustomOneHotEncoder(sparse=False)</pre></div></div></div></div></div></div></div>"
      ],
      "text/plain": [
       "Pipeline(steps=[('imputer', SimpleImputer(strategy='most_frequent')),\n",
       "                ('encoder', CustomOneHotEncoder(sparse=False))])"
      ]
     },
     "execution_count": 62,
     "metadata": {},
     "output_type": "execute_result"
    }
   ],
   "source": [
    "cat_pipeline_2 = Pipeline(\n",
    "    [\n",
    "        #(id , transformer object )\n",
    "        ('imputer', SimpleImputer(strategy='most_frequent') ),\n",
    "        ('encoder', CustomOneHotEncoder(sparse=False) )\n",
    "    ]\n",
    ")\n",
    "cat_pipeline_2"
   ]
  },
  {
   "cell_type": "code",
   "execution_count": 65,
   "metadata": {},
   "outputs": [
    {
     "data": {
      "text/html": [
       "<div>\n",
       "<style scoped>\n",
       "    .dataframe tbody tr th:only-of-type {\n",
       "        vertical-align: middle;\n",
       "    }\n",
       "\n",
       "    .dataframe tbody tr th {\n",
       "        vertical-align: top;\n",
       "    }\n",
       "\n",
       "    .dataframe thead th {\n",
       "        text-align: right;\n",
       "    }\n",
       "</style>\n",
       "<table border=\"1\" class=\"dataframe\">\n",
       "  <thead>\n",
       "    <tr style=\"text-align: right;\">\n",
       "      <th></th>\n",
       "      <th>x0_1</th>\n",
       "      <th>x0_2</th>\n",
       "      <th>x0_3</th>\n",
       "      <th>x1_female</th>\n",
       "      <th>x1_male</th>\n",
       "      <th>x2_C</th>\n",
       "      <th>x2_Q</th>\n",
       "      <th>x2_S</th>\n",
       "      <th>x3_First</th>\n",
       "      <th>x3_Second</th>\n",
       "      <th>x3_Third</th>\n",
       "      <th>x4_Cherbourg</th>\n",
       "      <th>x4_Queenstown</th>\n",
       "      <th>x4_Southampton</th>\n",
       "      <th>x5_False</th>\n",
       "      <th>x5_True</th>\n",
       "    </tr>\n",
       "  </thead>\n",
       "  <tbody>\n",
       "    <tr>\n",
       "      <th>0</th>\n",
       "      <td>0.0</td>\n",
       "      <td>0.0</td>\n",
       "      <td>1.0</td>\n",
       "      <td>0.0</td>\n",
       "      <td>1.0</td>\n",
       "      <td>0.0</td>\n",
       "      <td>0.0</td>\n",
       "      <td>1.0</td>\n",
       "      <td>0.0</td>\n",
       "      <td>0.0</td>\n",
       "      <td>1.0</td>\n",
       "      <td>0.0</td>\n",
       "      <td>0.0</td>\n",
       "      <td>1.0</td>\n",
       "      <td>0.0</td>\n",
       "      <td>1.0</td>\n",
       "    </tr>\n",
       "    <tr>\n",
       "      <th>1</th>\n",
       "      <td>0.0</td>\n",
       "      <td>0.0</td>\n",
       "      <td>1.0</td>\n",
       "      <td>1.0</td>\n",
       "      <td>0.0</td>\n",
       "      <td>0.0</td>\n",
       "      <td>0.0</td>\n",
       "      <td>1.0</td>\n",
       "      <td>0.0</td>\n",
       "      <td>0.0</td>\n",
       "      <td>1.0</td>\n",
       "      <td>0.0</td>\n",
       "      <td>0.0</td>\n",
       "      <td>1.0</td>\n",
       "      <td>1.0</td>\n",
       "      <td>0.0</td>\n",
       "    </tr>\n",
       "    <tr>\n",
       "      <th>2</th>\n",
       "      <td>1.0</td>\n",
       "      <td>0.0</td>\n",
       "      <td>0.0</td>\n",
       "      <td>1.0</td>\n",
       "      <td>0.0</td>\n",
       "      <td>1.0</td>\n",
       "      <td>0.0</td>\n",
       "      <td>0.0</td>\n",
       "      <td>1.0</td>\n",
       "      <td>0.0</td>\n",
       "      <td>0.0</td>\n",
       "      <td>1.0</td>\n",
       "      <td>0.0</td>\n",
       "      <td>0.0</td>\n",
       "      <td>1.0</td>\n",
       "      <td>0.0</td>\n",
       "    </tr>\n",
       "    <tr>\n",
       "      <th>3</th>\n",
       "      <td>0.0</td>\n",
       "      <td>0.0</td>\n",
       "      <td>1.0</td>\n",
       "      <td>0.0</td>\n",
       "      <td>1.0</td>\n",
       "      <td>0.0</td>\n",
       "      <td>0.0</td>\n",
       "      <td>1.0</td>\n",
       "      <td>0.0</td>\n",
       "      <td>0.0</td>\n",
       "      <td>1.0</td>\n",
       "      <td>0.0</td>\n",
       "      <td>0.0</td>\n",
       "      <td>1.0</td>\n",
       "      <td>1.0</td>\n",
       "      <td>0.0</td>\n",
       "    </tr>\n",
       "    <tr>\n",
       "      <th>4</th>\n",
       "      <td>0.0</td>\n",
       "      <td>0.0</td>\n",
       "      <td>1.0</td>\n",
       "      <td>0.0</td>\n",
       "      <td>1.0</td>\n",
       "      <td>0.0</td>\n",
       "      <td>0.0</td>\n",
       "      <td>1.0</td>\n",
       "      <td>0.0</td>\n",
       "      <td>0.0</td>\n",
       "      <td>1.0</td>\n",
       "      <td>0.0</td>\n",
       "      <td>0.0</td>\n",
       "      <td>1.0</td>\n",
       "      <td>0.0</td>\n",
       "      <td>1.0</td>\n",
       "    </tr>\n",
       "    <tr>\n",
       "      <th>...</th>\n",
       "      <td>...</td>\n",
       "      <td>...</td>\n",
       "      <td>...</td>\n",
       "      <td>...</td>\n",
       "      <td>...</td>\n",
       "      <td>...</td>\n",
       "      <td>...</td>\n",
       "      <td>...</td>\n",
       "      <td>...</td>\n",
       "      <td>...</td>\n",
       "      <td>...</td>\n",
       "      <td>...</td>\n",
       "      <td>...</td>\n",
       "      <td>...</td>\n",
       "      <td>...</td>\n",
       "      <td>...</td>\n",
       "    </tr>\n",
       "    <tr>\n",
       "      <th>618</th>\n",
       "      <td>0.0</td>\n",
       "      <td>0.0</td>\n",
       "      <td>1.0</td>\n",
       "      <td>1.0</td>\n",
       "      <td>0.0</td>\n",
       "      <td>0.0</td>\n",
       "      <td>1.0</td>\n",
       "      <td>0.0</td>\n",
       "      <td>0.0</td>\n",
       "      <td>0.0</td>\n",
       "      <td>1.0</td>\n",
       "      <td>0.0</td>\n",
       "      <td>1.0</td>\n",
       "      <td>0.0</td>\n",
       "      <td>0.0</td>\n",
       "      <td>1.0</td>\n",
       "    </tr>\n",
       "    <tr>\n",
       "      <th>619</th>\n",
       "      <td>0.0</td>\n",
       "      <td>0.0</td>\n",
       "      <td>1.0</td>\n",
       "      <td>0.0</td>\n",
       "      <td>1.0</td>\n",
       "      <td>0.0</td>\n",
       "      <td>0.0</td>\n",
       "      <td>1.0</td>\n",
       "      <td>0.0</td>\n",
       "      <td>0.0</td>\n",
       "      <td>1.0</td>\n",
       "      <td>0.0</td>\n",
       "      <td>0.0</td>\n",
       "      <td>1.0</td>\n",
       "      <td>1.0</td>\n",
       "      <td>0.0</td>\n",
       "    </tr>\n",
       "    <tr>\n",
       "      <th>620</th>\n",
       "      <td>0.0</td>\n",
       "      <td>0.0</td>\n",
       "      <td>1.0</td>\n",
       "      <td>1.0</td>\n",
       "      <td>0.0</td>\n",
       "      <td>1.0</td>\n",
       "      <td>0.0</td>\n",
       "      <td>0.0</td>\n",
       "      <td>0.0</td>\n",
       "      <td>0.0</td>\n",
       "      <td>1.0</td>\n",
       "      <td>1.0</td>\n",
       "      <td>0.0</td>\n",
       "      <td>0.0</td>\n",
       "      <td>1.0</td>\n",
       "      <td>0.0</td>\n",
       "    </tr>\n",
       "    <tr>\n",
       "      <th>621</th>\n",
       "      <td>1.0</td>\n",
       "      <td>0.0</td>\n",
       "      <td>0.0</td>\n",
       "      <td>1.0</td>\n",
       "      <td>0.0</td>\n",
       "      <td>0.0</td>\n",
       "      <td>0.0</td>\n",
       "      <td>1.0</td>\n",
       "      <td>1.0</td>\n",
       "      <td>0.0</td>\n",
       "      <td>0.0</td>\n",
       "      <td>0.0</td>\n",
       "      <td>0.0</td>\n",
       "      <td>1.0</td>\n",
       "      <td>1.0</td>\n",
       "      <td>0.0</td>\n",
       "    </tr>\n",
       "    <tr>\n",
       "      <th>622</th>\n",
       "      <td>0.0</td>\n",
       "      <td>0.0</td>\n",
       "      <td>1.0</td>\n",
       "      <td>1.0</td>\n",
       "      <td>0.0</td>\n",
       "      <td>1.0</td>\n",
       "      <td>0.0</td>\n",
       "      <td>0.0</td>\n",
       "      <td>0.0</td>\n",
       "      <td>0.0</td>\n",
       "      <td>1.0</td>\n",
       "      <td>1.0</td>\n",
       "      <td>0.0</td>\n",
       "      <td>0.0</td>\n",
       "      <td>1.0</td>\n",
       "      <td>0.0</td>\n",
       "    </tr>\n",
       "  </tbody>\n",
       "</table>\n",
       "<p>623 rows × 16 columns</p>\n",
       "</div>"
      ],
      "text/plain": [
       "     x0_1  x0_2  x0_3  x1_female  x1_male  x2_C  x2_Q  x2_S  x3_First  \\\n",
       "0     0.0   0.0   1.0        0.0      1.0   0.0   0.0   1.0       0.0   \n",
       "1     0.0   0.0   1.0        1.0      0.0   0.0   0.0   1.0       0.0   \n",
       "2     1.0   0.0   0.0        1.0      0.0   1.0   0.0   0.0       1.0   \n",
       "3     0.0   0.0   1.0        0.0      1.0   0.0   0.0   1.0       0.0   \n",
       "4     0.0   0.0   1.0        0.0      1.0   0.0   0.0   1.0       0.0   \n",
       "..    ...   ...   ...        ...      ...   ...   ...   ...       ...   \n",
       "618   0.0   0.0   1.0        1.0      0.0   0.0   1.0   0.0       0.0   \n",
       "619   0.0   0.0   1.0        0.0      1.0   0.0   0.0   1.0       0.0   \n",
       "620   0.0   0.0   1.0        1.0      0.0   1.0   0.0   0.0       0.0   \n",
       "621   1.0   0.0   0.0        1.0      0.0   0.0   0.0   1.0       1.0   \n",
       "622   0.0   0.0   1.0        1.0      0.0   1.0   0.0   0.0       0.0   \n",
       "\n",
       "     x3_Second  x3_Third  x4_Cherbourg  x4_Queenstown  x4_Southampton  \\\n",
       "0          0.0       1.0           0.0            0.0             1.0   \n",
       "1          0.0       1.0           0.0            0.0             1.0   \n",
       "2          0.0       0.0           1.0            0.0             0.0   \n",
       "3          0.0       1.0           0.0            0.0             1.0   \n",
       "4          0.0       1.0           0.0            0.0             1.0   \n",
       "..         ...       ...           ...            ...             ...   \n",
       "618        0.0       1.0           0.0            1.0             0.0   \n",
       "619        0.0       1.0           0.0            0.0             1.0   \n",
       "620        0.0       1.0           1.0            0.0             0.0   \n",
       "621        0.0       0.0           0.0            0.0             1.0   \n",
       "622        0.0       1.0           1.0            0.0             0.0   \n",
       "\n",
       "     x5_False  x5_True  \n",
       "0         0.0      1.0  \n",
       "1         1.0      0.0  \n",
       "2         1.0      0.0  \n",
       "3         1.0      0.0  \n",
       "4         0.0      1.0  \n",
       "..        ...      ...  \n",
       "618       0.0      1.0  \n",
       "619       1.0      0.0  \n",
       "620       1.0      0.0  \n",
       "621       1.0      0.0  \n",
       "622       1.0      0.0  \n",
       "\n",
       "[623 rows x 16 columns]"
      ]
     },
     "execution_count": 65,
     "metadata": {},
     "output_type": "execute_result"
    }
   ],
   "source": [
    "cat_pipeline_2.fit(X_train[cat_features])\n",
    "cat_pipeline_2.transform(X_train[cat_features])"
   ]
  },
  {
   "cell_type": "code",
   "execution_count": 63,
   "metadata": {},
   "outputs": [
    {
     "data": {
      "text/html": [
       "<style>#sk-b76308f4-d162-4910-ad28-b311d970bf74 {color: black;background-color: white;}#sk-b76308f4-d162-4910-ad28-b311d970bf74 pre{padding: 0;}#sk-b76308f4-d162-4910-ad28-b311d970bf74 div.sk-toggleable {background-color: white;}#sk-b76308f4-d162-4910-ad28-b311d970bf74 label.sk-toggleable__label {cursor: pointer;display: block;width: 100%;margin-bottom: 0;padding: 0.3em;box-sizing: border-box;text-align: center;}#sk-b76308f4-d162-4910-ad28-b311d970bf74 label.sk-toggleable__label-arrow:before {content: \"▸\";float: left;margin-right: 0.25em;color: #696969;}#sk-b76308f4-d162-4910-ad28-b311d970bf74 label.sk-toggleable__label-arrow:hover:before {color: black;}#sk-b76308f4-d162-4910-ad28-b311d970bf74 div.sk-estimator:hover label.sk-toggleable__label-arrow:before {color: black;}#sk-b76308f4-d162-4910-ad28-b311d970bf74 div.sk-toggleable__content {max-height: 0;max-width: 0;overflow: hidden;text-align: left;background-color: #f0f8ff;}#sk-b76308f4-d162-4910-ad28-b311d970bf74 div.sk-toggleable__content pre {margin: 0.2em;color: black;border-radius: 0.25em;background-color: #f0f8ff;}#sk-b76308f4-d162-4910-ad28-b311d970bf74 input.sk-toggleable__control:checked~div.sk-toggleable__content {max-height: 200px;max-width: 100%;overflow: auto;}#sk-b76308f4-d162-4910-ad28-b311d970bf74 input.sk-toggleable__control:checked~label.sk-toggleable__label-arrow:before {content: \"▾\";}#sk-b76308f4-d162-4910-ad28-b311d970bf74 div.sk-estimator input.sk-toggleable__control:checked~label.sk-toggleable__label {background-color: #d4ebff;}#sk-b76308f4-d162-4910-ad28-b311d970bf74 div.sk-label input.sk-toggleable__control:checked~label.sk-toggleable__label {background-color: #d4ebff;}#sk-b76308f4-d162-4910-ad28-b311d970bf74 input.sk-hidden--visually {border: 0;clip: rect(1px 1px 1px 1px);clip: rect(1px, 1px, 1px, 1px);height: 1px;margin: -1px;overflow: hidden;padding: 0;position: absolute;width: 1px;}#sk-b76308f4-d162-4910-ad28-b311d970bf74 div.sk-estimator {font-family: monospace;background-color: #f0f8ff;border: 1px dotted black;border-radius: 0.25em;box-sizing: border-box;margin-bottom: 0.5em;}#sk-b76308f4-d162-4910-ad28-b311d970bf74 div.sk-estimator:hover {background-color: #d4ebff;}#sk-b76308f4-d162-4910-ad28-b311d970bf74 div.sk-parallel-item::after {content: \"\";width: 100%;border-bottom: 1px solid gray;flex-grow: 1;}#sk-b76308f4-d162-4910-ad28-b311d970bf74 div.sk-label:hover label.sk-toggleable__label {background-color: #d4ebff;}#sk-b76308f4-d162-4910-ad28-b311d970bf74 div.sk-serial::before {content: \"\";position: absolute;border-left: 1px solid gray;box-sizing: border-box;top: 2em;bottom: 0;left: 50%;}#sk-b76308f4-d162-4910-ad28-b311d970bf74 div.sk-serial {display: flex;flex-direction: column;align-items: center;background-color: white;padding-right: 0.2em;padding-left: 0.2em;}#sk-b76308f4-d162-4910-ad28-b311d970bf74 div.sk-item {z-index: 1;}#sk-b76308f4-d162-4910-ad28-b311d970bf74 div.sk-parallel {display: flex;align-items: stretch;justify-content: center;background-color: white;}#sk-b76308f4-d162-4910-ad28-b311d970bf74 div.sk-parallel::before {content: \"\";position: absolute;border-left: 1px solid gray;box-sizing: border-box;top: 2em;bottom: 0;left: 50%;}#sk-b76308f4-d162-4910-ad28-b311d970bf74 div.sk-parallel-item {display: flex;flex-direction: column;position: relative;background-color: white;}#sk-b76308f4-d162-4910-ad28-b311d970bf74 div.sk-parallel-item:first-child::after {align-self: flex-end;width: 50%;}#sk-b76308f4-d162-4910-ad28-b311d970bf74 div.sk-parallel-item:last-child::after {align-self: flex-start;width: 50%;}#sk-b76308f4-d162-4910-ad28-b311d970bf74 div.sk-parallel-item:only-child::after {width: 0;}#sk-b76308f4-d162-4910-ad28-b311d970bf74 div.sk-dashed-wrapped {border: 1px dashed gray;margin: 0 0.4em 0.5em 0.4em;box-sizing: border-box;padding-bottom: 0.4em;background-color: white;position: relative;}#sk-b76308f4-d162-4910-ad28-b311d970bf74 div.sk-label label {font-family: monospace;font-weight: bold;background-color: white;display: inline-block;line-height: 1.2em;}#sk-b76308f4-d162-4910-ad28-b311d970bf74 div.sk-label-container {position: relative;z-index: 2;text-align: center;}#sk-b76308f4-d162-4910-ad28-b311d970bf74 div.sk-container {/* jupyter's `normalize.less` sets `[hidden] { display: none; }` but bootstrap.min.css set `[hidden] { display: none !important; }` so we also need the `!important` here to be able to override the default hidden behavior on the sphinx rendered scikit-learn.org. See: https://github.com/scikit-learn/scikit-learn/issues/21755 */display: inline-block !important;position: relative;}#sk-b76308f4-d162-4910-ad28-b311d970bf74 div.sk-text-repr-fallback {display: none;}</style><div id=\"sk-b76308f4-d162-4910-ad28-b311d970bf74\" class=\"sk-top-container\"><div class=\"sk-text-repr-fallback\"><pre>ColumnTransformer(transformers=[(&#x27;num_pipeline&#x27;,\n",
       "                                 Pipeline(steps=[(&#x27;imputer&#x27;,\n",
       "                                                  SimpleImputer(strategy=&#x27;median&#x27;)),\n",
       "                                                 (&#x27;scaler&#x27;, RobustScaler())]),\n",
       "                                 [&#x27;age&#x27;, &#x27;fare&#x27;, &#x27;sibsp&#x27;, &#x27;parch&#x27;]),\n",
       "                                (&#x27;cat_pipeline&#x27;,\n",
       "                                 Pipeline(steps=[(&#x27;imputer&#x27;,\n",
       "                                                  SimpleImputer(strategy=&#x27;most_frequent&#x27;)),\n",
       "                                                 (&#x27;encoder&#x27;,\n",
       "                                                  CustomOneHotEncoder(sparse=False))]),\n",
       "                                 [&#x27;pclass&#x27;, &#x27;sex&#x27;, &#x27;embarked&#x27;, &#x27;class&#x27;,\n",
       "                                  &#x27;embark_town&#x27;, &#x27;alone&#x27;])])</pre><b>Please rerun this cell to show the HTML repr or trust the notebook.</b></div><div class=\"sk-container\" hidden><div class=\"sk-item sk-dashed-wrapped\"><div class=\"sk-label-container\"><div class=\"sk-label sk-toggleable\"><input class=\"sk-toggleable__control sk-hidden--visually\" id=\"42008e70-7d05-4f61-a385-92a19952ebfb\" type=\"checkbox\" ><label for=\"42008e70-7d05-4f61-a385-92a19952ebfb\" class=\"sk-toggleable__label sk-toggleable__label-arrow\">ColumnTransformer</label><div class=\"sk-toggleable__content\"><pre>ColumnTransformer(transformers=[(&#x27;num_pipeline&#x27;,\n",
       "                                 Pipeline(steps=[(&#x27;imputer&#x27;,\n",
       "                                                  SimpleImputer(strategy=&#x27;median&#x27;)),\n",
       "                                                 (&#x27;scaler&#x27;, RobustScaler())]),\n",
       "                                 [&#x27;age&#x27;, &#x27;fare&#x27;, &#x27;sibsp&#x27;, &#x27;parch&#x27;]),\n",
       "                                (&#x27;cat_pipeline&#x27;,\n",
       "                                 Pipeline(steps=[(&#x27;imputer&#x27;,\n",
       "                                                  SimpleImputer(strategy=&#x27;most_frequent&#x27;)),\n",
       "                                                 (&#x27;encoder&#x27;,\n",
       "                                                  CustomOneHotEncoder(sparse=False))]),\n",
       "                                 [&#x27;pclass&#x27;, &#x27;sex&#x27;, &#x27;embarked&#x27;, &#x27;class&#x27;,\n",
       "                                  &#x27;embark_town&#x27;, &#x27;alone&#x27;])])</pre></div></div></div><div class=\"sk-parallel\"><div class=\"sk-parallel-item\"><div class=\"sk-item\"><div class=\"sk-label-container\"><div class=\"sk-label sk-toggleable\"><input class=\"sk-toggleable__control sk-hidden--visually\" id=\"5a16042b-cecc-4ffd-aed7-49f9cfdaa8b7\" type=\"checkbox\" ><label for=\"5a16042b-cecc-4ffd-aed7-49f9cfdaa8b7\" class=\"sk-toggleable__label sk-toggleable__label-arrow\">num_pipeline</label><div class=\"sk-toggleable__content\"><pre>[&#x27;age&#x27;, &#x27;fare&#x27;, &#x27;sibsp&#x27;, &#x27;parch&#x27;]</pre></div></div></div><div class=\"sk-serial\"><div class=\"sk-item\"><div class=\"sk-serial\"><div class=\"sk-item\"><div class=\"sk-estimator sk-toggleable\"><input class=\"sk-toggleable__control sk-hidden--visually\" id=\"b1e3e4ce-2a43-44d9-bf36-60499b606687\" type=\"checkbox\" ><label for=\"b1e3e4ce-2a43-44d9-bf36-60499b606687\" class=\"sk-toggleable__label sk-toggleable__label-arrow\">SimpleImputer</label><div class=\"sk-toggleable__content\"><pre>SimpleImputer(strategy=&#x27;median&#x27;)</pre></div></div></div><div class=\"sk-item\"><div class=\"sk-estimator sk-toggleable\"><input class=\"sk-toggleable__control sk-hidden--visually\" id=\"68df4b63-7957-4df6-9501-71374b5fad6a\" type=\"checkbox\" ><label for=\"68df4b63-7957-4df6-9501-71374b5fad6a\" class=\"sk-toggleable__label sk-toggleable__label-arrow\">RobustScaler</label><div class=\"sk-toggleable__content\"><pre>RobustScaler()</pre></div></div></div></div></div></div></div></div><div class=\"sk-parallel-item\"><div class=\"sk-item\"><div class=\"sk-label-container\"><div class=\"sk-label sk-toggleable\"><input class=\"sk-toggleable__control sk-hidden--visually\" id=\"7254482d-11bf-4fa8-af87-06585f58ed43\" type=\"checkbox\" ><label for=\"7254482d-11bf-4fa8-af87-06585f58ed43\" class=\"sk-toggleable__label sk-toggleable__label-arrow\">cat_pipeline</label><div class=\"sk-toggleable__content\"><pre>[&#x27;pclass&#x27;, &#x27;sex&#x27;, &#x27;embarked&#x27;, &#x27;class&#x27;, &#x27;embark_town&#x27;, &#x27;alone&#x27;]</pre></div></div></div><div class=\"sk-serial\"><div class=\"sk-item\"><div class=\"sk-serial\"><div class=\"sk-item\"><div class=\"sk-estimator sk-toggleable\"><input class=\"sk-toggleable__control sk-hidden--visually\" id=\"11329307-fc65-4b4e-8190-f4ea290cd71f\" type=\"checkbox\" ><label for=\"11329307-fc65-4b4e-8190-f4ea290cd71f\" class=\"sk-toggleable__label sk-toggleable__label-arrow\">SimpleImputer</label><div class=\"sk-toggleable__content\"><pre>SimpleImputer(strategy=&#x27;most_frequent&#x27;)</pre></div></div></div><div class=\"sk-item\"><div class=\"sk-estimator sk-toggleable\"><input class=\"sk-toggleable__control sk-hidden--visually\" id=\"2e2a9426-2767-40ae-9337-e098fc53a5c6\" type=\"checkbox\" ><label for=\"2e2a9426-2767-40ae-9337-e098fc53a5c6\" class=\"sk-toggleable__label sk-toggleable__label-arrow\">CustomOneHotEncoder</label><div class=\"sk-toggleable__content\"><pre>CustomOneHotEncoder(sparse=False)</pre></div></div></div></div></div></div></div></div></div></div></div></div>"
      ],
      "text/plain": [
       "ColumnTransformer(transformers=[('num_pipeline',\n",
       "                                 Pipeline(steps=[('imputer',\n",
       "                                                  SimpleImputer(strategy='median')),\n",
       "                                                 ('scaler', RobustScaler())]),\n",
       "                                 ['age', 'fare', 'sibsp', 'parch']),\n",
       "                                ('cat_pipeline',\n",
       "                                 Pipeline(steps=[('imputer',\n",
       "                                                  SimpleImputer(strategy='most_frequent')),\n",
       "                                                 ('encoder',\n",
       "                                                  CustomOneHotEncoder(sparse=False))]),\n",
       "                                 ['pclass', 'sex', 'embarked', 'class',\n",
       "                                  'embark_town', 'alone'])])"
      ]
     },
     "execution_count": 63,
     "metadata": {},
     "output_type": "execute_result"
    }
   ],
   "source": [
    "preprocessing = ColumnTransformer(\n",
    "    [\n",
    "        #(name, transformer obect, columns)\n",
    "        ('num_pipeline', num_pipeline, num_features ),\n",
    "        ('cat_pipeline', cat_pipeline_2, cat_features )\n",
    "    ]\n",
    ")\n",
    "preprocessing"
   ]
  },
  {
   "cell_type": "code",
   "execution_count": 64,
   "metadata": {},
   "outputs": [
    {
     "data": {
      "text/plain": [
       "array([[-5.38461538e-01,  7.03083512e-02,  0.00000000e+00, ...,\n",
       "         1.00000000e+00,  0.00000000e+00,  1.00000000e+00],\n",
       "       [ 0.00000000e+00,  4.71451820e-01,  3.00000000e+00, ...,\n",
       "         1.00000000e+00,  1.00000000e+00,  0.00000000e+00],\n",
       "       [ 2.46153846e+00,  2.60349893e+00,  1.00000000e+00, ...,\n",
       "         0.00000000e+00,  1.00000000e+00,  0.00000000e+00],\n",
       "       ...,\n",
       "       [ 0.00000000e+00,  0.00000000e+00,  1.00000000e+00, ...,\n",
       "         0.00000000e+00,  1.00000000e+00,  0.00000000e+00],\n",
       "       [ 0.00000000e+00,  1.60778158e+00,  1.00000000e+00, ...,\n",
       "         1.00000000e+00,  1.00000000e+00,  0.00000000e+00],\n",
       "       [-1.03846154e+00, -1.75588865e-04,  1.00000000e+00, ...,\n",
       "         0.00000000e+00,  1.00000000e+00,  0.00000000e+00]])"
      ]
     },
     "execution_count": 64,
     "metadata": {},
     "output_type": "execute_result"
    }
   ],
   "source": [
    "preprocessing.fit_transform(X_train)"
   ]
  },
  {
   "cell_type": "markdown",
   "metadata": {},
   "source": [
    "🏁 If you want to build a very advanced pipeline, feel free to explore the Optional Challenge dealing the `cars dataset` !\n",
    "\n",
    "💾 Don't forget to git add/commit/push your notebook.\n",
    "\n",
    "👏 Congratulations, you are now a master at Pipeline and ColumnTransformer."
   ]
  }
 ],
 "metadata": {
  "kernelspec": {
   "display_name": "Python 3 (ipykernel)",
   "language": "python",
   "name": "python3"
  },
  "language_info": {
   "codemirror_mode": {
    "name": "ipython",
    "version": 3
   },
   "file_extension": ".py",
   "mimetype": "text/x-python",
   "name": "python",
   "nbconvert_exporter": "python",
   "pygments_lexer": "ipython3",
   "version": "3.8.12"
  },
  "toc": {
   "base_numbering": 1,
   "nav_menu": {},
   "number_sections": true,
   "sideBar": true,
   "skip_h1_title": false,
   "title_cell": "Table of Contents",
   "title_sidebar": "Contents",
   "toc_cell": false,
   "toc_position": {},
   "toc_section_display": true,
   "toc_window_display": false
  }
 },
 "nbformat": 4,
 "nbformat_minor": 4
}
